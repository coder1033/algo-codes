{
 "cells": [
  {
   "cell_type": "code",
   "execution_count": 81,
   "metadata": {},
   "outputs": [
    {
     "name": "stdout",
     "output_type": "stream",
     "text": [
      "[1, 2]\n"
     ]
    }
   ],
   "source": [
    "S='0011101'\n",
    "l,r = None,None\n",
    "z,o = 0,0\n",
    "cl,cr = None,None\n",
    "cz,co = 0,0\n",
    "for idx,bit in enumerate(S):\n",
    "    if bit=='0' and cz==0:                 #### main ####\n",
    "        cl=idx+1\n",
    "        cr=idx+1\n",
    "        cz=1\n",
    "    elif bit=='0':\n",
    "        cr+=1\n",
    "        cz+=1\n",
    "    elif bit=='1' and cz>co:\n",
    "        if l==None:\n",
    "            z=cz\n",
    "            o=co\n",
    "            l=cl\n",
    "            r=cr\n",
    "        elif cz-co>z-o:\n",
    "            l=cl\n",
    "            r=cr\n",
    "            z,o=cz,co\n",
    "        co+=1\n",
    "        cr+=1\n",
    "    else:\n",
    "        if cz-co>z-o:\n",
    "            l,r =cl,cr\n",
    "            z,o=cz,co\n",
    "        cl,cr=None,None\n",
    "        cz,co=0,0\n",
    "if cz-co>z-o:\n",
    "    l,r =cl,cr \n",
    "print([l,r]) if l!=None else print([])"
   ]
  },
  {
   "cell_type": "code",
   "execution_count": 38,
   "metadata": {},
   "outputs": [
    {
     "data": {
      "text/plain": [
       "43"
      ]
     },
     "execution_count": 38,
     "metadata": {},
     "output_type": "execute_result"
    }
   ],
   "source": [
    "len('0101010100011101110100100100001001010111010')"
   ]
  }
 ],
 "metadata": {
  "kernelspec": {
   "display_name": "Python 3",
   "language": "python",
   "name": "python3"
  },
  "language_info": {
   "codemirror_mode": {
    "name": "ipython",
    "version": 3
   },
   "file_extension": ".py",
   "mimetype": "text/x-python",
   "name": "python",
   "nbconvert_exporter": "python",
   "pygments_lexer": "ipython3",
   "version": "3.8.1"
  }
 },
 "nbformat": 4,
 "nbformat_minor": 4
}
