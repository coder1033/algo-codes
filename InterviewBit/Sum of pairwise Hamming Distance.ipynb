{
 "cells": [
  {
   "cell_type": "code",
   "execution_count": 35,
   "metadata": {},
   "outputs": [
    {
     "name": "stdout",
     "output_type": "stream",
     "text": [
      "220\n"
     ]
    }
   ],
   "source": [
    "A = [2,4,6,8,3,5,7,1,2,4,67]\n",
    "n = len(A)\n",
    "ans = 0\n",
    "for i in range(32):                    #### main #### Sum of pairwise Hamming Distance\n",
    "    ones = 0\n",
    "    for ele in A:\n",
    "        if ele & 1<<i:\n",
    "            ones+=1\n",
    "    zeros = n-ones\n",
    "    ans+=ones*zeros\n",
    "    ans%=1000000007\n",
    "print((ans*2)%1000000007)"
   ]
  },
  {
   "cell_type": "code",
   "execution_count": 28,
   "metadata": {},
   "outputs": [
    {
     "name": "stdout",
     "output_type": "stream",
     "text": [
      "220\n"
     ]
    }
   ],
   "source": [
    "A = [2,4,6,8,3,5,7,1,2,4,67]\n",
    "ans=0\n",
    "for i in A:\n",
    "    for j in A:                               #### brute force ####\n",
    "        ans+=bin(i^j)[2:].count('1')\n",
    "print(ans%1000000007)"
   ]
  }
 ],
 "metadata": {
  "kernelspec": {
   "display_name": "Python 3",
   "language": "python",
   "name": "python3"
  },
  "language_info": {
   "codemirror_mode": {
    "name": "ipython",
    "version": 3
   },
   "file_extension": ".py",
   "mimetype": "text/x-python",
   "name": "python",
   "nbconvert_exporter": "python",
   "pygments_lexer": "ipython3",
   "version": "3.8.1"
  }
 },
 "nbformat": 4,
 "nbformat_minor": 4
}
