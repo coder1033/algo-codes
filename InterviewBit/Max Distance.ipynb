{
 "cells": [
  {
   "cell_type": "code",
   "execution_count": 26,
   "metadata": {},
   "outputs": [
    {
     "name": "stdout",
     "output_type": "stream",
     "text": [
      "5\n"
     ]
    }
   ],
   "source": [
    "A = [21, 2 ,3, 26, 9 ,8 ,11]\n",
    "minStack = [(A[0],0)]\n",
    "for i,j in enumerate(A[1:]):\n",
    "    if j<minStack[-1][0]:\n",
    "        minStack+=[(j,i+1)]\n",
    "    else:\n",
    "        minStack+=[minStack[-1]]            #### main #### Max Distance\n",
    "maxi = -1\n",
    "#print(minStack)\n",
    "for i in range(len(A)-1,-1,-1):\n",
    "    while minStack and A[i]>=minStack[-1][0]:\n",
    "        maxi = max(i-minStack[-1][1],maxi)\n",
    "        minStack.pop()\n",
    "print(maxi)"
   ]
  }
 ],
 "metadata": {
  "kernelspec": {
   "display_name": "Python 3",
   "language": "python",
   "name": "python3"
  },
  "language_info": {
   "codemirror_mode": {
    "name": "ipython",
    "version": 3
   },
   "file_extension": ".py",
   "mimetype": "text/x-python",
   "name": "python",
   "nbconvert_exporter": "python",
   "pygments_lexer": "ipython3",
   "version": "3.8.1"
  }
 },
 "nbformat": 4,
 "nbformat_minor": 4
}
