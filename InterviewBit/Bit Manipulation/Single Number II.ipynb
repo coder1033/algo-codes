{
 "cells": [
  {
   "cell_type": "code",
   "execution_count": 23,
   "metadata": {},
   "outputs": [
    {
     "name": "stdout",
     "output_type": "stream",
     "text": [
      "4\n"
     ]
    }
   ],
   "source": [
    "A = [1, 2, 4, 3, 3, 2, 2, 3, 1, 1]\n",
    "def singleNumber(A):\n",
    "    ans = ''\n",
    "    A = list(A)                            #### main #### Single Number II\n",
    "    for i in range(32):\n",
    "        o,z = 0,0\n",
    "        for j,x in enumerate(A):\n",
    "            if x&1:\n",
    "                o+=1\n",
    "            A[j] >>= 1\n",
    "        if o%3:\n",
    "            ans+='1'\n",
    "        else:\n",
    "            ans+='0'\n",
    "\n",
    "        #print(o,z)\n",
    "        #print(A)\n",
    "    ans = ans[::-1]\n",
    "    #print(ans)\n",
    "    return int(ans,2)\n",
    "print(singleNumber(A))"
   ]
  }
 ],
 "metadata": {
  "kernelspec": {
   "display_name": "Python 3",
   "language": "python",
   "name": "python3"
  },
  "language_info": {
   "codemirror_mode": {
    "name": "ipython",
    "version": 3
   },
   "file_extension": ".py",
   "mimetype": "text/x-python",
   "name": "python",
   "nbconvert_exporter": "python",
   "pygments_lexer": "ipython3",
   "version": "3.8.1"
  }
 },
 "nbformat": 4,
 "nbformat_minor": 4
}
