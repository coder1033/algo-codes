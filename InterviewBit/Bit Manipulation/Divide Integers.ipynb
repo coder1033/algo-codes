{
 "cells": [
  {
   "cell_type": "code",
   "execution_count": 3,
   "metadata": {},
   "outputs": [
    {
     "data": {
      "text/plain": [
       "2147483647"
      ]
     },
     "execution_count": 3,
     "metadata": {},
     "output_type": "execute_result"
    }
   ],
   "source": [
    " 2**31 - 1"
   ]
  },
  {
   "cell_type": "code",
   "execution_count": 4,
   "metadata": {},
   "outputs": [
    {
     "data": {
      "text/plain": [
       "2"
      ]
     },
     "execution_count": 4,
     "metadata": {},
     "output_type": "execute_result"
    }
   ],
   "source": [
    "def divide(A, B):\n",
    "    INT_MAX = 2**31-1\n",
    "    INT_MIN = -2**31\n",
    "    t = 0                                                  #### main #### Divide Integers\n",
    "    ans = 0\n",
    "    sign = 1 if A<=0 and B<=0 or A>=0 and B>=0 else -1\n",
    "    A,B = abs(A),abs(B)\n",
    "    for i in range(31,-1,-1):\n",
    "        if B<<i <= A:\n",
    "            ans |= 1<<i\n",
    "            A-=B<<i\n",
    "        if ans>INT_MAX and sign==1:\n",
    "            return INT_MAX\n",
    "        elif -ans<INT_MIN and sign==-1:\n",
    "            return INT_MIN\n",
    "    else:\n",
    "        if sign!=1:\n",
    "            return ~ans+1\n",
    "        else:\n",
    "            return ans\n",
    "A,B = 5,2\n",
    "divide(A,B)"
   ]
  },
  {
   "cell_type": "code",
   "execution_count": 5,
   "metadata": {},
   "outputs": [
    {
     "data": {
      "text/plain": [
       "-3"
      ]
     },
     "execution_count": 5,
     "metadata": {},
     "output_type": "execute_result"
    }
   ],
   "source": [
    "A = 3\n",
    "~A+1"
   ]
  }
 ],
 "metadata": {
  "kernelspec": {
   "display_name": "Python 3",
   "language": "python",
   "name": "python3"
  },
  "language_info": {
   "codemirror_mode": {
    "name": "ipython",
    "version": 3
   },
   "file_extension": ".py",
   "mimetype": "text/x-python",
   "name": "python",
   "nbconvert_exporter": "python",
   "pygments_lexer": "ipython3",
   "version": "3.8.1"
  }
 },
 "nbformat": 4,
 "nbformat_minor": 4
}
