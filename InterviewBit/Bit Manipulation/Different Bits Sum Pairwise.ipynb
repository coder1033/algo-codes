{
 "cells": [
  {
   "cell_type": "code",
   "execution_count": 1,
   "metadata": {},
   "outputs": [
    {
     "data": {
      "text/plain": [
       "84"
      ]
     },
     "execution_count": 1,
     "metadata": {},
     "output_type": "execute_result"
    }
   ],
   "source": [
    "def cntBits(A):\n",
    "    M = 1000000007\n",
    "    ans = 0\n",
    "    for i in range(32):\n",
    "        o=0\n",
    "        z=0\n",
    "        for a in A:                      #### main #### Different Bits Sum Pairwise\n",
    "            if a>>i&1:\n",
    "                o+=1\n",
    "            else:\n",
    "                z+=1\n",
    "        ans+=o*z*2\n",
    "        ans%=M\n",
    "    return ans\n",
    "A = [1,3,5,9,4,2,6]\n",
    "cntBits(A)"
   ]
  },
  {
   "cell_type": "code",
   "execution_count": 2,
   "metadata": {},
   "outputs": [
    {
     "name": "stdout",
     "output_type": "stream",
     "text": [
      "84\n"
     ]
    }
   ],
   "source": [
    "A = [1,3,5,9,4,2,6]\n",
    "ans = 0\n",
    "for i in A:                           #### Brute Force\n",
    "    for j in A:\n",
    "        t = i^j\n",
    "        ans+=bin(t).count('1')\n",
    "print(ans)"
   ]
  }
 ],
 "metadata": {
  "kernelspec": {
   "display_name": "Python 3",
   "language": "python",
   "name": "python3"
  },
  "language_info": {
   "codemirror_mode": {
    "name": "ipython",
    "version": 3
   },
   "file_extension": ".py",
   "mimetype": "text/x-python",
   "name": "python",
   "nbconvert_exporter": "python",
   "pygments_lexer": "ipython3",
   "version": "3.8.1"
  }
 },
 "nbformat": 4,
 "nbformat_minor": 4
}
