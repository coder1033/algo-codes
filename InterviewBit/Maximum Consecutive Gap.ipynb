{
 "cells": [
  {
   "cell_type": "code",
   "execution_count": 10,
   "metadata": {},
   "outputs": [
    {
     "name": "stdout",
     "output_type": "stream",
     "text": [
      "5\n"
     ]
    }
   ],
   "source": [
    "import heapq\n",
    "#A = list(A)\n",
    "A = [1,10,5]\n",
    "for i in range(len(A)):              #### main #### Maximum Consecutive Gap\n",
    "    A[i]=-A[i]\n",
    "heapq.heapify(A)\n",
    "t = -heapq.heappop(A)\n",
    "ans = 0\n",
    "for i in range(len(A)):\n",
    "    u = -heapq.heappop(A)\n",
    "    ans = max(ans,t-u)\n",
    "    t = u\n",
    "print(ans)"
   ]
  }
 ],
 "metadata": {
  "kernelspec": {
   "display_name": "Python 3",
   "language": "python",
   "name": "python3"
  },
  "language_info": {
   "codemirror_mode": {
    "name": "ipython",
    "version": 3
   },
   "file_extension": ".py",
   "mimetype": "text/x-python",
   "name": "python",
   "nbconvert_exporter": "python",
   "pygments_lexer": "ipython3",
   "version": "3.8.1"
  }
 },
 "nbformat": 4,
 "nbformat_minor": 4
}
