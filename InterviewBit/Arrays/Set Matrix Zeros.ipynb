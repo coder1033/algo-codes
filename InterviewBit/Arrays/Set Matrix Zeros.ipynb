{
 "cells": [
  {
   "cell_type": "code",
   "execution_count": 9,
   "metadata": {},
   "outputs": [
    {
     "name": "stdout",
     "output_type": "stream",
     "text": [
      "[[0, 0, 0], [1, 0, 1], [1, 0, 1]]\n"
     ]
    }
   ],
   "source": [
    "A = [   [1, 0, 1],\n",
    "        [1, 1, 1], \n",
    "        [1, 1, 1]   ]\n",
    "m = len(A)\n",
    "n = len(A[0])\n",
    "row = set()\n",
    "col = set()\n",
    "for i in range(m):\n",
    "    for j in range(n):                #### main #### Set Matrix Zeros\n",
    "        if A[i][j]==0:\n",
    "            row.add(i)\n",
    "            col.add(j)\n",
    "for i in range(m):\n",
    "    for j in range(n):\n",
    "        if i in row or j in col:\n",
    "            A[i][j]=0\n",
    "print(A)"
   ]
  }
 ],
 "metadata": {
  "kernelspec": {
   "display_name": "Python 3",
   "language": "python",
   "name": "python3"
  },
  "language_info": {
   "codemirror_mode": {
    "name": "ipython",
    "version": 3
   },
   "file_extension": ".py",
   "mimetype": "text/x-python",
   "name": "python",
   "nbconvert_exporter": "python",
   "pygments_lexer": "ipython3",
   "version": "3.8.1"
  }
 },
 "nbformat": 4,
 "nbformat_minor": 4
}
