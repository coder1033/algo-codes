{
 "cells": [
  {
   "cell_type": "code",
   "execution_count": null,
   "metadata": {},
   "outputs": [],
   "source": [
    "from functools import cmp_to_key\n",
    "class Solution:\n",
    "    # @param A : tuple of integers\n",
    "    # @return a strings\n",
    "    def largestNumber(self, A):\n",
    "        \n",
    "        def comparison(a,b):                          #### main #### Largest Number\n",
    "            if str(a)+str(b)<str(b)+str(a):\n",
    "                return 1\n",
    "            else:\n",
    "                return -1\n",
    "        A1 = sorted(A,key=cmp_to_key(comparison))\n",
    "        return int(''.join(list(map(str,A1))))"
   ]
  },
  {
   "cell_type": "code",
   "execution_count": 22,
   "metadata": {},
   "outputs": [
    {
     "name": "stdout",
     "output_type": "stream",
     "text": [
      "9534330"
     ]
    }
   ],
   "source": [
    "from functools import cmp_to_key\n",
    "class Solution:\n",
    "    # @param A : tuple of integers                   #### main #### Largest Number\n",
    "    # @return a strings\n",
    "    def largestNumber(self, A):\n",
    "        return int(''.join(sorted(map(str, A), key=lambda s: s*9)[::-1]))"
   ]
  },
  {
   "cell_type": "code",
   "execution_count": 28,
   "metadata": {},
   "outputs": [
    {
     "data": {
      "text/plain": [
       "True"
      ]
     },
     "execution_count": 28,
     "metadata": {},
     "output_type": "execute_result"
    }
   ],
   "source": [
    "'3'*9>'330'*9"
   ]
  }
 ],
 "metadata": {
  "kernelspec": {
   "display_name": "Python 3",
   "language": "python",
   "name": "python3"
  },
  "language_info": {
   "codemirror_mode": {
    "name": "ipython",
    "version": 3
   },
   "file_extension": ".py",
   "mimetype": "text/x-python",
   "name": "python",
   "nbconvert_exporter": "python",
   "pygments_lexer": "ipython3",
   "version": "3.8.1"
  }
 },
 "nbformat": 4,
 "nbformat_minor": 4
}
