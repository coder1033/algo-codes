{
 "cells": [
  {
   "cell_type": "code",
   "execution_count": 24,
   "metadata": {},
   "outputs": [
    {
     "name": "stdout",
     "output_type": "stream",
     "text": [
      "[]\n"
     ]
    }
   ],
   "source": [
    "A = [-4,-6,-1]\n",
    "n = len(A)\n",
    "maxi = -1\n",
    "curr = 0\n",
    "l,r = None,None\n",
    "lc,rc = None,None\n",
    "for idx,ele in enumerate(A):\n",
    "    if ele>=0:\n",
    "        if lc==None:\n",
    "            lc=idx                           #### main ####\n",
    "            rc=idx\n",
    "            curr+=ele\n",
    "        else:\n",
    "            rc+=1\n",
    "            curr+=ele\n",
    "    elif lc!=None:\n",
    "        if curr>maxi:\n",
    "            maxi=curr\n",
    "            l,r = lc,rc\n",
    "            curr=0\n",
    "            lc,rc=None,None\n",
    "        elif curr==maxi and r-l<rc-lc:\n",
    "            l,r=lc,rc\n",
    "            curr=0\n",
    "            lc,rc=None,None\n",
    "        else:\n",
    "            curr=0\n",
    "            lc,rc=None,None\n",
    "if lc!=None:\n",
    "    if curr>maxi:\n",
    "        maxi=curr\n",
    "        l,r = lc,rc\n",
    "        curr=0\n",
    "        lc,rc=None,None\n",
    "    elif curr==maxi and r-l<rc-lc:\n",
    "        l,r=lc,rc\n",
    "        curr=0\n",
    "        lc,rc=None,None\n",
    "if maxi==-1:\n",
    "    print([])\n",
    "else:\n",
    "    print(A[l:r+1])"
   ]
  }
 ],
 "metadata": {
  "kernelspec": {
   "display_name": "Python 3",
   "language": "python",
   "name": "python3"
  },
  "language_info": {
   "codemirror_mode": {
    "name": "ipython",
    "version": 3
   },
   "file_extension": ".py",
   "mimetype": "text/x-python",
   "name": "python",
   "nbconvert_exporter": "python",
   "pygments_lexer": "ipython3",
   "version": "3.8.1"
  }
 },
 "nbformat": 4,
 "nbformat_minor": 4
}
