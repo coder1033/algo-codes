{
 "cells": [
  {
   "cell_type": "code",
   "execution_count": 79,
   "metadata": {},
   "outputs": [
    {
     "name": "stdout",
     "output_type": "stream",
     "text": [
      "[[1, 2], [3, 6]] [8, 10]\n",
      "[[1, 2], [3, 6], [8, 10]]\n"
     ]
    }
   ],
   "source": [
    "A = [[1,2],[3,5],[6,7],[8,10],[12,16]]\n",
    "B = [4,9]\n",
    "A = [[1,3],[6,9]]\n",
    "B = [2,5]\n",
    "A = [ [1,2] , [3,6] ]\n",
    "B = [10,8]\n",
    "#A = [[3,6],[8,10]]\n",
    "#B = [1,2]\n",
    "#A = [ [3, 5], [8, 10] ]\n",
    "#B = [1, 12]\n",
    "#A = [[4,5],[7,10]]\n",
    "#B = [1,7]\n",
    "#A = [[1,1],[2,2],[3,3]]\n",
    "#B = [4,4]\n",
    "#A = [[1,3],[6,9]]\n",
    "#B = [2,5]\n",
    "\n",
    "B = sorted(B)\n",
    "ans = []\n",
    "s,e = None, None\n",
    "for i in range(len(A)):\n",
    "    if B[0]<A[i][0]:\n",
    "        s=i\n",
    "        break\n",
    "    if B[0]<A[i][1]:\n",
    "        s=i\n",
    "        break\n",
    "if s==None:\n",
    "    A+=[B]                   #### main #### Merge Intervals\n",
    "    print(A)\n",
    "else:\n",
    "    ans = A[:s]\n",
    "    if B[1]<=A[s][0]:\n",
    "        ans+=[B]\n",
    "    else:\n",
    "        ans+=[[min(B[0],A[s][0]),max(B[1],A[s][1])]]\n",
    "        s+=1\n",
    "    for i in range(s,len(A)):\n",
    "        \n",
    "        if A[i][0]>=ans[-1][1]:\n",
    "            ans+=[A[i]]\n",
    "        else:\n",
    "            ans[-1][1]=max(ans[-1][1],A[i][1])\n",
    "    print(ans)"
   ]
  },
  {
   "cell_type": "code",
   "execution_count": null,
   "metadata": {},
   "outputs": [],
   "source": [
    "# Definition for an interval.\n",
    "# class Interval:\n",
    "#     def __init__(self, s=0, e=0):\n",
    "#         self.start = s\n",
    "#         self.end = e\n",
    "\n",
    "class Solution:\n",
    "    # @param intervals, a list of Intervals\n",
    "    # @param new_interval, a Interval\n",
    "    # @return a list of Interval\n",
    "    def insert(self, intervals, new_interval):\n",
    "        A = [[obj.start,obj.end] for obj in intervals]\n",
    "        B = sorted([new_interval.start,new_interval.end])\n",
    "        ans = []\n",
    "        s,e = None, None\n",
    "        for i in range(len(A)):\n",
    "            if B[0]<A[i][0]:\n",
    "                s=i\n",
    "                break\n",
    "            if B[0]<A[i][1]:\n",
    "                s=i\n",
    "                break\n",
    "        if s==None:\n",
    "            A+=[B]\n",
    "            for i in range(len(A)):\n",
    "                A[i]=Interval(A[i][0],A[i][1])\n",
    "            return A\n",
    "        else:\n",
    "            ans = A[:s]\n",
    "            if B[1]<=A[s][0]:\n",
    "                ans+=[B]\n",
    "            else:\n",
    "                ans+=[[min(B[0],A[s][0]),max(B[1],A[s][1])]]\n",
    "                s+=1\n",
    "            for i in range(s,len(A)):\n",
    "                \n",
    "                if A[i][0]>=ans[-1][1]:\n",
    "                    ans+=[A[i]]\n",
    "                else:\n",
    "                    ans[-1][1]=max(ans[-1][1],A[i][1])\n",
    "            for i in range(len(ans)):\n",
    "                ans[i]=Interval(ans[i][0],ans[i][1])\n",
    "            return ans"
   ]
  }
 ],
 "metadata": {
  "kernelspec": {
   "display_name": "Python 3",
   "language": "python",
   "name": "python3"
  },
  "language_info": {
   "codemirror_mode": {
    "name": "ipython",
    "version": 3
   },
   "file_extension": ".py",
   "mimetype": "text/x-python",
   "name": "python",
   "nbconvert_exporter": "python",
   "pygments_lexer": "ipython3",
   "version": "3.8.1"
  }
 },
 "nbformat": 4,
 "nbformat_minor": 4
}
