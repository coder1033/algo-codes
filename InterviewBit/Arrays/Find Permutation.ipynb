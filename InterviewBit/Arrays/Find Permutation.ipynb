{
 "cells": [
  {
   "cell_type": "code",
   "execution_count": 7,
   "metadata": {},
   "outputs": [
    {
     "name": "stdout",
     "output_type": "stream",
     "text": [
      "[2, 1]\n"
     ]
    }
   ],
   "source": [
    "S = 'D'\n",
    "n = len(S)+1\n",
    "D = S.count('D')\n",
    "I = S.count('I')\n",
    "ans = []\n",
    "ic,dc = n-I+1,D\n",
    "ans+=[D+1]\n",
    "for i in S:                  #### main ####\n",
    "    if i=='I':\n",
    "        ans+=[ic]\n",
    "        ic+=1\n",
    "    else:\n",
    "        ans+=[dc]\n",
    "        dc-=1\n",
    "print(ans)"
   ]
  },
  {
   "cell_type": "code",
   "execution_count": null,
   "metadata": {},
   "outputs": [],
   "source": [
    "S = 'DDIDI'\n",
    "S = 'DDDDDI'\n",
    "S = 'DIDD'"
   ]
  }
 ],
 "metadata": {
  "kernelspec": {
   "display_name": "Python 3",
   "language": "python",
   "name": "python3"
  },
  "language_info": {
   "codemirror_mode": {
    "name": "ipython",
    "version": 3
   },
   "file_extension": ".py",
   "mimetype": "text/x-python",
   "name": "python",
   "nbconvert_exporter": "python",
   "pygments_lexer": "ipython3",
   "version": "3.8.1"
  }
 },
 "nbformat": 4,
 "nbformat_minor": 4
}
