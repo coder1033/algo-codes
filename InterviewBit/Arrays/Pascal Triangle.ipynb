{
 "cells": [
  {
   "cell_type": "code",
   "execution_count": 1,
   "metadata": {},
   "outputs": [
    {
     "name": "stdout",
     "output_type": "stream",
     "text": [
      "3\n",
      "[1]\n",
      "[1, 1]\n",
      "[1, 2, 1]\n"
     ]
    }
   ],
   "source": [
    "numRows = int(input())\n",
    "if numRows==0:\n",
    "    print([])\n",
    "elif numRows==1:\n",
    "    print([[1]])\n",
    "else:\n",
    "    ans = [[1],[1,1]]                         #### main ####\n",
    "    for i in range(2,numRows):\n",
    "        ans+=[[1]]\n",
    "        for j in range(i-1):\n",
    "            ans[-1]+=[ans[i-1][j]+ans[i-1][j+1]]\n",
    "        ans[-1]+=[1]\n",
    "    print(*ans,sep='\\n')"
   ]
  }
 ],
 "metadata": {
  "kernelspec": {
   "display_name": "Python 3",
   "language": "python",
   "name": "python3"
  },
  "language_info": {
   "codemirror_mode": {
    "name": "ipython",
    "version": 3
   },
   "file_extension": ".py",
   "mimetype": "text/x-python",
   "name": "python",
   "nbconvert_exporter": "python",
   "pygments_lexer": "ipython3",
   "version": "3.8.1"
  }
 },
 "nbformat": 4,
 "nbformat_minor": 4
}
