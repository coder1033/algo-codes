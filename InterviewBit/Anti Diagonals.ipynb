{
 "cells": [
  {
   "cell_type": "code",
   "execution_count": 9,
   "metadata": {},
   "outputs": [
    {
     "name": "stdout",
     "output_type": "stream",
     "text": [
      "[1]\n",
      "[2, 4]\n",
      "[3, 5, 7]\n",
      "[6, 8]\n",
      "[9]\n"
     ]
    }
   ],
   "source": [
    "class Solution:\n",
    "    # @param A : list of list of integers\n",
    "    # @return a list of list of integers\n",
    "    def diagonal(self, A):                                 #### main #### Anti Diagonals\n",
    "        n = len(A)\n",
    "        ans = [[] for _ in range(n*2-1)]\n",
    "        for i in range(n):\n",
    "            for j in range(n):\n",
    "                ans[i+j].append(A[i][j])\n",
    "        return ans"
   ]
  }
 ],
 "metadata": {
  "kernelspec": {
   "display_name": "Python 3",
   "language": "python",
   "name": "python3"
  },
  "language_info": {
   "codemirror_mode": {
    "name": "ipython",
    "version": 3
   },
   "file_extension": ".py",
   "mimetype": "text/x-python",
   "name": "python",
   "nbconvert_exporter": "python",
   "pygments_lexer": "ipython3",
   "version": "3.8.1"
  }
 },
 "nbformat": 4,
 "nbformat_minor": 4
}
