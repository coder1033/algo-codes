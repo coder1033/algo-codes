{
 "cells": [
  {
   "cell_type": "code",
   "execution_count": 29,
   "metadata": {},
   "outputs": [
    {
     "name": "stdout",
     "output_type": "stream",
     "text": [
      "[3, 5]\n"
     ]
    }
   ],
   "source": [
    "A = [ 7,7,8,9,9,9,9,9,9,9,9,9,9,9,9,9,9,9,9]\n",
    "B = 8\n",
    "l,h = 0,len(A)-1\n",
    "while l<h:\n",
    "    mid = l+(h-l)//2\n",
    "    if A[mid]<B:\n",
    "        l=mid+1\n",
    "    else:\n",
    "        h=mid                       #### main #### Search for a Range\n",
    "low=l\n",
    "l,h = 0,len(A)-1\n",
    "while l<=h:\n",
    "    mid = l+(h-l)//2\n",
    "    if A[mid]>B:\n",
    "        h=mid-1\n",
    "    else:\n",
    "        l=mid+1\n",
    "high=h\n",
    "if A[low]!=B:\n",
    "    print([-1,-1])\n",
    "else:\n",
    "    print([low,high])"
   ]
  },
  {
   "cell_type": "code",
   "execution_count": 32,
   "metadata": {},
   "outputs": [
    {
     "name": "stdout",
     "output_type": "stream",
     "text": [
      "[3, 3]\n"
     ]
    }
   ],
   "source": [
    "A=[5, 17, 100, 111]\n",
    "B=111\n",
    "l,h = 0,len(A)-1\n",
    "while l<h:\n",
    "    mid = l+(h-l)//2\n",
    "    if A[mid]<B:\n",
    "        l=mid+1\n",
    "    else:                            #### main #### Search for a Range\n",
    "        h=mid\n",
    "low=l\n",
    "l,h = 0,len(A)-1\n",
    "while l<h:\n",
    "    mid = l+(h-l)//2+1\n",
    "    if A[mid]>B:\n",
    "        h=mid-1\n",
    "    else:\n",
    "        l=mid\n",
    "high=h\n",
    "if A[low]!=B:\n",
    "    print([-1,-1])\n",
    "else:\n",
    "    print([low,high])"
   ]
  }
 ],
 "metadata": {
  "kernelspec": {
   "display_name": "Python 3",
   "language": "python",
   "name": "python3"
  },
  "language_info": {
   "codemirror_mode": {
    "name": "ipython",
    "version": 3
   },
   "file_extension": ".py",
   "mimetype": "text/x-python",
   "name": "python",
   "nbconvert_exporter": "python",
   "pygments_lexer": "ipython3",
   "version": "3.8.1"
  }
 },
 "nbformat": 4,
 "nbformat_minor": 4
}
