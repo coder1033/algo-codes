{
 "cells": [
  {
   "cell_type": "code",
   "execution_count": 18,
   "metadata": {},
   "outputs": [
    {
     "name": "stdout",
     "output_type": "stream",
     "text": [
      "2\n"
     ]
    }
   ],
   "source": [
    "A = [5, 7, 7, 8, 8, 10]\n",
    "target = 8\n",
    "low, high = None, None\n",
    "\n",
    "l,h = 0,len(A)-1\n",
    "while l<=h:\n",
    "    mid = l+(h-l)//2\n",
    "    if A[mid]<target:\n",
    "        l = mid+1                 #### main #### Count Element Occurence\n",
    "    elif A[mid]>=target:\n",
    "        h = mid-1\n",
    "        low = mid\n",
    "\n",
    "l,h = 0,len(A)-1\n",
    "while l<=h:\n",
    "    mid = l+(h-l)//2\n",
    "    if A[mid]<=target:\n",
    "        l = mid+1\n",
    "        high = mid\n",
    "    elif A[mid]>target:\n",
    "        h = mid-1\n",
    "if high==None or low==None:\n",
    "    print(-1)\n",
    "else:\n",
    "    print(high-low+1)"
   ]
  }
 ],
 "metadata": {
  "kernelspec": {
   "display_name": "Python 3",
   "language": "python",
   "name": "python3"
  },
  "language_info": {
   "codemirror_mode": {
    "name": "ipython",
    "version": 3
   },
   "file_extension": ".py",
   "mimetype": "text/x-python",
   "name": "python",
   "nbconvert_exporter": "python",
   "pygments_lexer": "ipython3",
   "version": "3.8.1"
  }
 },
 "nbformat": 4,
 "nbformat_minor": 4
}
