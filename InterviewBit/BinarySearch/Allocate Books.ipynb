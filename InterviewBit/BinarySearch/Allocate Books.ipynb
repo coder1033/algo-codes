{
 "cells": [
  {
   "cell_type": "code",
   "execution_count": 10,
   "metadata": {},
   "outputs": [
    {
     "name": "stdout",
     "output_type": "stream",
     "text": [
      "139\n"
     ]
    }
   ],
   "source": [
    "class Solution:\n",
    "    # @param A : list of integers\n",
    "    # @param B : integer\n",
    "    # @return an integer\n",
    "    def books(self, A, B):\n",
    "        def func(m,B):\n",
    "            curr = A[0]\n",
    "            res = curr\n",
    "            B-=1\n",
    "            for i in A[1:]:\n",
    "                if curr+i>m:\n",
    "                    curr=i\n",
    "                    B-=1\n",
    "                else:\n",
    "                    curr+=i\n",
    "                res = max(res,curr)\n",
    "                if B<0:\n",
    "                    return False\n",
    "            return res\n",
    "                                                     #### main #### Allocate Books\n",
    "        \n",
    "        l,h = max(A),sum(A)\n",
    "        ans = None\n",
    "        if B>len(A):\n",
    "            return -1\n",
    "        while l<=h:\n",
    "            m = (l+h)//2\n",
    "            t = func(m,B)\n",
    "            if t:\n",
    "                h = m-1\n",
    "                ans = t\n",
    "            else:\n",
    "                l = m+1\n",
    "        if ans:\n",
    "            return ans\n",
    "        else:\n",
    "            return -1"
   ]
  },
  {
   "cell_type": "code",
   "execution_count": null,
   "metadata": {},
   "outputs": [],
   "source": [
    "Test Case -\n",
    "A = [12, 34, 67, 90]\n",
    "B = 2\n",
    "A = [5, 17, 100, 11]\n",
    "B = 4\n",
    "A = [ 73, 58, 30, 72, 44, 78, 23, 9 ]\n",
    "B = 5\n",
    "A = [ 31, 14, 19, 75 ]\n",
    "B = 1\n"
   ]
  }
 ],
 "metadata": {
  "kernelspec": {
   "display_name": "Python 3",
   "language": "python",
   "name": "python3"
  },
  "language_info": {
   "codemirror_mode": {
    "name": "ipython",
    "version": 3
   },
   "file_extension": ".py",
   "mimetype": "text/x-python",
   "name": "python",
   "nbconvert_exporter": "python",
   "pygments_lexer": "ipython3",
   "version": "3.8.1"
  }
 },
 "nbformat": 4,
 "nbformat_minor": 4
}
