{
 "cells": [
  {
   "cell_type": "code",
   "execution_count": 22,
   "metadata": {},
   "outputs": [
    {
     "data": {
      "text/plain": [
       "0"
      ]
     },
     "execution_count": 22,
     "metadata": {},
     "output_type": "execute_result"
    }
   ],
   "source": [
    "class Solution:\n",
    "    # @param x : integer\n",
    "    # @param n : integer\n",
    "    # @param d : integer\n",
    "    # @return an integer\n",
    "    def pow(self, x, n, d):\n",
    "        if n==0:\n",
    "            return 1%d\n",
    "        x%=d\n",
    "        b = bin(n)[2:][::-1]                         #### main #### Implement Power Function\n",
    "        e = 2**(len(b)-1)\n",
    "        c = [i for i,j in enumerate(b) if j=='1']\n",
    "        i=1\n",
    "        arr = [x]\n",
    "        while True:\n",
    "            curr = 2**i\n",
    "            if curr>e:\n",
    "                break\n",
    "            arr+=[((arr[-1]%d)*(arr[-1]%d))%d]\n",
    "            i+=1\n",
    "        #print(arr)\n",
    "        ans=1\n",
    "        for i in c:\n",
    "            ans*=arr[i]\n",
    "            ans%=d\n",
    "        return ans\n",
    "obj = Solution()\n",
    "obj.pow(4,2,1)"
   ]
  },
  {
   "cell_type": "code",
   "execution_count": 26,
   "metadata": {},
   "outputs": [
    {
     "name": "stdout",
     "output_type": "stream",
     "text": [
      "0\n"
     ]
    }
   ],
   "source": [
    "x,n,d = 0,0,1\n",
    "if x==0:\n",
    "    print(0)\n",
    "else:                                 #### main #### Implement Power Function\n",
    "    ans = 1 if x!=0 else 0\n",
    "    while n>0:\n",
    "        if n&1:\n",
    "            ans = ans*x%d\n",
    "        x = x**2%d\n",
    "        n = n>>1\n",
    "    print(ans)"
   ]
  },
  {
   "cell_type": "code",
   "execution_count": null,
   "metadata": {},
   "outputs": [],
   "source": []
  },
  {
   "cell_type": "code",
   "execution_count": null,
   "metadata": {},
   "outputs": [],
   "source": []
  },
  {
   "cell_type": "code",
   "execution_count": null,
   "metadata": {},
   "outputs": [],
   "source": []
  },
  {
   "cell_type": "code",
   "execution_count": null,
   "metadata": {},
   "outputs": [],
   "source": []
  },
  {
   "cell_type": "code",
   "execution_count": null,
   "metadata": {},
   "outputs": [],
   "source": []
  },
  {
   "cell_type": "code",
   "execution_count": null,
   "metadata": {},
   "outputs": [],
   "source": []
  }
 ],
 "metadata": {
  "kernelspec": {
   "display_name": "Python 3",
   "language": "python",
   "name": "python3"
  }
 },
 "nbformat": 4,
 "nbformat_minor": 4
}
