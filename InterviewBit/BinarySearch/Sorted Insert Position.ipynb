{
 "cells": [
  {
   "cell_type": "code",
   "execution_count": 2,
   "metadata": {},
   "outputs": [
    {
     "name": "stdout",
     "output_type": "stream",
     "text": [
      "5\n"
     ]
    }
   ],
   "source": [
    "A = [1,3,5,8,9]\n",
    "B = 5\n",
    "B = 2\n",
    "#B = 6\n",
    "B = 1000\n",
    "if B>A[-1]:\n",
    "    print(len(A))\n",
    "else:\n",
    "    l,h = 0,len(A)-1                 #### main #### Sorted Insert Position\n",
    "    while l<h:\n",
    "        mid = l+(h-l)//2\n",
    "        if B<A[mid]:\n",
    "            h=mid\n",
    "        elif A[mid]<B:\n",
    "            l=mid+1\n",
    "        else:\n",
    "            l=mid\n",
    "            break\n",
    "    print(l)"
   ]
  },
  {
   "cell_type": "code",
   "execution_count": 1,
   "metadata": {},
   "outputs": [
    {
     "name": "stdout",
     "output_type": "stream",
     "text": [
      "5\n"
     ]
    }
   ],
   "source": [
    "A = [1,3,5,8,9]\n",
    "B = 5\n",
    "B = 2\n",
    "B = 6\n",
    "B = 10\n",
    "\n",
    "l,h = 0,len(A)\n",
    "while l<h:                               #### main #### Sorted Insert Position\n",
    "    mid = l+(h-l)//2\n",
    "    if A[mid]<B:\n",
    "        l=mid+1\n",
    "    else:\n",
    "        h=mid\n",
    "print(l)"
   ]
  }
 ],
 "metadata": {
  "kernelspec": {
   "display_name": "Python 3",
   "language": "python",
   "name": "python3"
  },
  "language_info": {
   "codemirror_mode": {
    "name": "ipython",
    "version": 3
   },
   "file_extension": ".py",
   "mimetype": "text/x-python",
   "name": "python",
   "nbconvert_exporter": "python",
   "pygments_lexer": "ipython3",
   "version": "3.8.1"
  }
 },
 "nbformat": 4,
 "nbformat_minor": 4
}
