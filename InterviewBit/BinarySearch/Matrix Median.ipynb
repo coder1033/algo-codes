{
 "cells": [
  {
   "cell_type": "code",
   "execution_count": 37,
   "metadata": {},
   "outputs": [],
   "source": [
    "A = [[1, 3, 5],\n",
    "    [2, 6, 9],\n",
    "    [3, 6, 9]]\n",
    "A = [   [5, 17, 100]    ]\n",
    "A = [[1,2,2,2,2,2,3]]\n",
    "A = [\n",
    "  [2],\n",
    "  [1],\n",
    "  [4],\n",
    "  [1],\n",
    "  [2],\n",
    "  [2],\n",
    "  [5]\n",
    "]\n",
    "A = [\n",
    "  [1, 2, 9],\n",
    "  [5, 8, 9],\n",
    "  [1, 3, 4],\n",
    "]\n",
    "ans = 4"
   ]
  },
  {
   "cell_type": "code",
   "execution_count": 41,
   "metadata": {},
   "outputs": [
    {
     "name": "stdout",
     "output_type": "stream",
     "text": [
      "6 5 item\n",
      "6 5\n",
      "4 3 item\n",
      "4 3\n",
      "5 4 item\n",
      "5 4\n",
      "4\n"
     ]
    }
   ],
   "source": [
    "class Solution:\n",
    "    # @param A : list of list of integers\n",
    "    # @return an integer\n",
    "    def findMedian(self, A):\n",
    "        def ub(item):\n",
    "            less = 0\n",
    "            for i in range(r):\n",
    "                l,h = 0,c-1\n",
    "                while l<h:\n",
    "                    m = (l+h)//2+1\n",
    "                    if A[i][m]>item:                  #### main #### Matrix Median\n",
    "                        h=m-1\n",
    "                    else:\n",
    "                        l=m\n",
    "                if h==0:\n",
    "                    if A[i][0]<=item:\n",
    "                        less+=1\n",
    "                else:\n",
    "                    less+=h+1\n",
    "            return less\n",
    "                \n",
    "        r = len(A)\n",
    "        c = len(A[0])\n",
    "        mini = A[0][0]\n",
    "        maxi = A[-1][-1]\n",
    "        for i in range(r):\n",
    "            mini = min(A[i][0],mini)\n",
    "            maxi = max(A[i][-1],maxi)\n",
    "        while mini<maxi:\n",
    "            mid = (mini+maxi)//2\n",
    "            count = ub(mid)\n",
    "            #print(count,mid)\n",
    "            if count<(r*c)//2+1:\n",
    "                mini=mid+1\n",
    "            else:\n",
    "                maxi=mid\n",
    "        return mini"
   ]
  },
  {
   "cell_type": "code",
   "execution_count": 35,
   "metadata": {},
   "outputs": [
    {
     "name": "stdout",
     "output_type": "stream",
     "text": [
      "2 4 item\n",
      "1 4 item\n",
      "3 4 item\n",
      "6 4\n"
     ]
    },
    {
     "data": {
      "text/plain": [
       "6"
      ]
     },
     "execution_count": 35,
     "metadata": {},
     "output_type": "execute_result"
    }
   ],
   "source": [
    "ub(4)"
   ]
  },
  {
   "cell_type": "code",
   "execution_count": 7,
   "metadata": {},
   "outputs": [
    {
     "name": "stdout",
     "output_type": "stream",
     "text": [
      "3\n"
     ]
    }
   ],
   "source": [
    "A = [1,2,2,3,5,5]\n",
    "l,h = 0,len(A)-1\n",
    "while l<h:\n",
    "    m = (l+h)//2+1\n",
    "    if A[m] <=2:\n",
    "        l=m+1\n",
    "    else:\n",
    "        h=m-1\n",
    "print(l)"
   ]
  }
 ],
 "metadata": {
  "kernelspec": {
   "display_name": "Python 3",
   "language": "python",
   "name": "python3"
  },
  "language_info": {
   "codemirror_mode": {
    "name": "ipython",
    "version": 3
   },
   "file_extension": ".py",
   "mimetype": "text/x-python",
   "name": "python",
   "nbconvert_exporter": "python",
   "pygments_lexer": "ipython3",
   "version": "3.8.1"
  }
 },
 "nbformat": 4,
 "nbformat_minor": 4
}
