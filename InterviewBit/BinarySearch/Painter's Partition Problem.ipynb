{
 "cells": [
  {
   "cell_type": "code",
   "execution_count": 1,
   "metadata": {},
   "outputs": [
    {
     "ename": "NameError",
     "evalue": "name 'C' is not defined",
     "output_type": "error",
     "traceback": [
      "\u001b[1;31m---------------------------------------------------------------------------\u001b[0m",
      "\u001b[1;31mNameError\u001b[0m                                 Traceback (most recent call last)",
      "\u001b[1;32m<ipython-input-1-13708727c45d>\u001b[0m in \u001b[0;36m<module>\u001b[1;34m\u001b[0m\n\u001b[0;32m     18\u001b[0m \u001b[0mB\u001b[0m \u001b[1;33m=\u001b[0m \u001b[1;36m12\u001b[0m\u001b[1;33m\u001b[0m\u001b[1;33m\u001b[0m\u001b[0m\n\u001b[0;32m     19\u001b[0m \u001b[1;33m\u001b[0m\u001b[0m\n\u001b[1;32m---> 20\u001b[1;33m \u001b[0ml\u001b[0m\u001b[1;33m,\u001b[0m\u001b[0mh\u001b[0m \u001b[1;33m=\u001b[0m \u001b[0mmax\u001b[0m\u001b[1;33m(\u001b[0m\u001b[0mC\u001b[0m\u001b[1;33m)\u001b[0m\u001b[1;33m,\u001b[0m\u001b[0msum\u001b[0m\u001b[1;33m(\u001b[0m\u001b[0mC\u001b[0m\u001b[1;33m)\u001b[0m\u001b[1;33m\u001b[0m\u001b[1;33m\u001b[0m\u001b[0m\n\u001b[0m\u001b[0;32m     21\u001b[0m \u001b[0mans\u001b[0m \u001b[1;33m=\u001b[0m \u001b[1;32mNone\u001b[0m\u001b[1;33m\u001b[0m\u001b[1;33m\u001b[0m\u001b[0m\n\u001b[0;32m     22\u001b[0m \u001b[1;32mwhile\u001b[0m \u001b[0ml\u001b[0m\u001b[1;33m<=\u001b[0m\u001b[0mh\u001b[0m\u001b[1;33m:\u001b[0m\u001b[1;33m\u001b[0m\u001b[1;33m\u001b[0m\u001b[0m\n",
      "\u001b[1;31mNameError\u001b[0m: name 'C' is not defined"
     ]
    }
   ],
   "source": [
    "def func(m,A):\n",
    "    curr = C[0]\n",
    "    res = curr\n",
    "    A-=1\n",
    "    for i in C[1:]:\n",
    "        if curr+i>m:\n",
    "            curr=i\n",
    "            A-=1\n",
    "        else:\n",
    "            curr+=i\n",
    "        res = max(res,curr)                 #### main #### Painter's Partition Problem\n",
    "        if A<0:\n",
    "            return False\n",
    "    return res\n",
    "\n",
    "\n",
    "l,h = max(C),sum(C)\n",
    "ans = None\n",
    "while l<=h:\n",
    "    m = (l+h)//2\n",
    "    t = func(m,A)\n",
    "    if t:\n",
    "        h = m-1\n",
    "        ans = t\n",
    "    else:\n",
    "        l = m+1\n",
    "print((ans*B)%10000003)"
   ]
  },
  {
   "cell_type": "code",
   "execution_count": null,
   "metadata": {},
   "outputs": [],
   "source": [
    "Test Case - \n",
    "\n",
    "A = 10\n",
    "B = 1\n",
    "C = [1, 8, 11, 3]\n",
    "\n",
    "A = 2\n",
    "B = 5\n",
    "C = [1, 10]\n",
    "\n",
    "A = 1\n",
    "B = 1000000\n",
    "C = [ 1000000, 1000000 ]\n",
    "\n",
    "A = 2\n",
    "B = 3\n",
    "C = [5, 4, 2, 5, 1, 3]\n",
    "\n",
    "A = 3\n",
    "B = 10\n",
    "C = [ 640, 435, 647, 352, 8, 90, 960, 329, 859 ]\n",
    "\n",
    "A = 5\n",
    "B = 10\n",
    "C = [658, 786, 531, 47, 169, 397, 914]\n",
    "\n",
    "A = 2\n",
    "B = 4\n",
    "C = [1,10,2,5]\n",
    "\n",
    "A = 2\n",
    "B = 1\n",
    "C = [1,2,3]\n",
    "\n",
    "A = 1\n",
    "B = 10\n",
    "C = [1]\n"
   ]
  }
 ],
 "metadata": {
  "kernelspec": {
   "display_name": "Python 3",
   "language": "python",
   "name": "python3"
  },
  "language_info": {
   "codemirror_mode": {
    "name": "ipython",
    "version": 3
   },
   "file_extension": ".py",
   "mimetype": "text/x-python",
   "name": "python",
   "nbconvert_exporter": "python",
   "pygments_lexer": "ipython3",
   "version": "3.8.1"
  }
 },
 "nbformat": 4,
 "nbformat_minor": 4
}
