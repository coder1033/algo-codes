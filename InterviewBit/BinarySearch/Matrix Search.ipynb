{
 "cells": [
  {
   "cell_type": "code",
   "execution_count": 20,
   "metadata": {},
   "outputs": [
    {
     "name": "stdout",
     "output_type": "stream",
     "text": [
      "1\n"
     ]
    }
   ],
   "source": [
    "A = [ [1,   3,  5,  7],\n",
    "      [10, 11, 16, 20],\n",
    "      [23, 30, 34, 50]  ]\n",
    "B = 3\n",
    "\n",
    "r,c = len(A),len(A[0])\n",
    "l,h = 0,r*c-1\n",
    "while l<=h:                                    #### main #### Matrix Search\n",
    "    mid = (l+h)//2\n",
    "    ri = mid//c\n",
    "    ci = mid%c\n",
    "    if A[ri][ci]>B:\n",
    "        h = mid-1\n",
    "    elif A[ri][ci]<B:\n",
    "        l = mid+1\n",
    "    else:\n",
    "        print(1)\n",
    "        break\n",
    "else:\n",
    "    print(0)"
   ]
  }
 ],
 "metadata": {
  "kernelspec": {
   "display_name": "Python 3",
   "language": "python",
   "name": "python3"
  },
  "language_info": {
   "codemirror_mode": {
    "name": "ipython",
    "version": 3
   },
   "file_extension": ".py",
   "mimetype": "text/x-python",
   "name": "python",
   "nbconvert_exporter": "python",
   "pygments_lexer": "ipython3",
   "version": "3.8.1"
  }
 },
 "nbformat": 4,
 "nbformat_minor": 4
}
