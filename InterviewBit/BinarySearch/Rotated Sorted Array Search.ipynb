{
 "cells": [
  {
   "cell_type": "code",
   "execution_count": 13,
   "metadata": {},
   "outputs": [
    {
     "name": "stdout",
     "output_type": "stream",
     "text": [
      "3\n"
     ]
    }
   ],
   "source": [
    "A = [4, 5, 6, 7, 0, 1, 2, 3]\n",
    "B = 7\n",
    "l,h = 0,len(A)-1\n",
    "while l<h:\n",
    "    mid = l+(h-l)//2                             #### main #### Rotated Sorted Array Search\n",
    "    if A[l]<=A[h] or A[l]>A[mid]:\n",
    "        h=mid\n",
    "    elif A[l]<=A[mid] and A[mid]>A[h]:\n",
    "        l=mid+1\n",
    "if B>A[-1]:\n",
    "    l,h = 0,l-1\n",
    "else:\n",
    "    l,h=l,len(A)-1\n",
    "while l<=h:\n",
    "    mid = l+(h-l)//2\n",
    "    if A[mid]>B:\n",
    "        h=mid-1\n",
    "    elif A[mid]<B:\n",
    "        l=mid+1\n",
    "    else:\n",
    "        print(mid)\n",
    "        break\n",
    "else:\n",
    "    print(-1)"
   ]
  },
  {
   "cell_type": "code",
   "execution_count": null,
   "metadata": {},
   "outputs": [],
   "source": []
  }
 ],
 "metadata": {
  "kernelspec": {
   "display_name": "Python 3",
   "language": "python",
   "name": "python3"
  },
  "language_info": {
   "codemirror_mode": {
    "name": "ipython",
    "version": 3
   },
   "file_extension": ".py",
   "mimetype": "text/x-python",
   "name": "python",
   "nbconvert_exporter": "python",
   "pygments_lexer": "ipython3",
   "version": "3.8.1"
  }
 },
 "nbformat": 4,
 "nbformat_minor": 4
}
