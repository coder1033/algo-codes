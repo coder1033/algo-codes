{
 "cells": [
  {
   "cell_type": "code",
   "execution_count": 4,
   "metadata": {},
   "outputs": [
    {
     "name": "stdout",
     "output_type": "stream",
     "text": [
      "0\n"
     ]
    }
   ],
   "source": [
    "A = [4,5,6,7,8,9,0,1,2]\n",
    "l,h = 0,len(A)-1\n",
    "while l<h:\n",
    "    mid = l+(h-l)//2\n",
    "    if A[l]<=A[mid] and A[mid]<=A[h]:\n",
    "        h=mid-1                                     #### main #### Rotated Array\n",
    "    elif A[l]<=A[mid] and A[mid]>A[h]:\n",
    "        l=mid+1\n",
    "    elif A[l]>A[mid] and A[mid]<=A[h]:\n",
    "        h=mid\n",
    "    \n",
    "print(A[l])"
   ]
  },
  {
   "cell_type": "code",
   "execution_count": 5,
   "metadata": {},
   "outputs": [
    {
     "name": "stdout",
     "output_type": "stream",
     "text": [
      "0\n"
     ]
    }
   ],
   "source": [
    "A = [4,5,6,7,8,9,0,1,2]\n",
    "l,h = 0,len(A)-1\n",
    "while l<h:\n",
    "    mid = l+(h-l)//2\n",
    "    if A[l]<=A[h] or A[l]>A[mid]:                   #### main #### Rotated Array\n",
    "        h=mid\n",
    "    elif A[l]<=A[mid] and A[mid]>A[h]:\n",
    "        l=mid+1\n",
    "    \n",
    "print(A[l])"
   ]
  },
  {
   "cell_type": "code",
   "execution_count": null,
   "metadata": {},
   "outputs": [],
   "source": [
    "Test Case - \n",
    "A = [4, 5, 6, 7, 0, 1, 2]\n",
    "A = [2,2,2,2,2,2,2,2,2,2]\n",
    "A = [0,0,1,1,3,3,3,3,0,0]\n",
    "A = [ 40342, 40766, 41307, 42639, 42777, 46079, 47038, 47923, 48064, 48083, 49760, 49871, 51000, 51035, 53186, 53499, 53895, 59118, 60467, 60498, 60764, 65158, 65838, 65885, 65919, 66638, 66807, 66989, 67114, 68119, 68146, 68584, 69494, 70914, 72312, 72432, 74536, 77038, 77720, 78590, 78769, 78894, 80169, 81717, 81760, 82124, 82583, 82620, 82877, 83131, 84932, 85050, 85358, 89896, 90991, 91348, 91376, 92786, 93626, 93688, 94972, 95064, 96240, 96308, 96755, 97197, 97243, 98049, 98407, 98998, 99785, 350, 2563, 3075, 3161, 3519, 4176, 4371, 5885, 6054, 6495, 7218, 7734, 9235, 11899, 13070, 14002, 16258, 16309, 16461, 17338, 19141, 19526, 21256, 21507, 21945, 22753, 25029, 25524, 27311, 27609, 28217, 30854, 32721, 33184, 34190, 35040, 35753, 36144, 37342 ]\n"
   ]
  }
 ],
 "metadata": {
  "kernelspec": {
   "display_name": "Python 3",
   "language": "python",
   "name": "python3"
  },
  "language_info": {
   "codemirror_mode": {
    "name": "ipython",
    "version": 3
   },
   "file_extension": ".py",
   "mimetype": "text/x-python",
   "name": "python",
   "nbconvert_exporter": "python",
   "pygments_lexer": "ipython3",
   "version": "3.8.1"
  }
 },
 "nbformat": 4,
 "nbformat_minor": 4
}
