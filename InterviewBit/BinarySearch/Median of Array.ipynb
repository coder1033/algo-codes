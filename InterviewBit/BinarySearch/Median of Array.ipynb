{
 "cells": [
  {
   "cell_type": "code",
   "execution_count": 45,
   "metadata": {},
   "outputs": [
    {
     "name": "stdout",
     "output_type": "stream",
     "text": [
      "-10.0\n"
     ]
    }
   ],
   "source": [
    "from math import ceil\n",
    "def findMedianSortedArrays(self, A, B):\n",
    "    from math import ceil\n",
    "    la = len(A)\n",
    "    lb = len(B)                             #### main #### Median of Array\n",
    "    if la>lb:\n",
    "        la,lb = lb,la\n",
    "        A,B = B,A\n",
    "    total = int(ceil((la+lb)/2.0))\n",
    "    l,h = 0,len(A)\n",
    "    while l<=h:\n",
    "        m = (l+h)//2\n",
    "\n",
    "        a1 = A[m-1] if m-1>-1 else float('-inf')\n",
    "        a2 = A[m] if m<la else float('inf')\n",
    "        b1 = B[total-m-1] if total-m-1>-1 else float('-inf')\n",
    "        b2 = B[total-m] if total-m<lb else float('inf')\n",
    "\n",
    "        if b1>a2:\n",
    "            l=m+1\n",
    "        elif a1>b2:\n",
    "            h=m\n",
    "        else:\n",
    "            if (la+lb)%2:\n",
    "                return max(a1,b1)\n",
    "            else:\n",
    "                return (max(a1,b1)+min(a2,b2))/2.0\n",
    "            break\n"
   ]
  },
  {
   "cell_type": "code",
   "execution_count": null,
   "metadata": {},
   "outputs": [],
   "source": [
    "t = sorted(A+B)\n",
    "l = len(t)                     #### BruteForce\n",
    "if l%2:\n",
    "    print(t[l//2])\n",
    "else:\n",
    "    print((t[l//2]+t[l//2-1])/2)"
   ]
  },
  {
   "cell_type": "code",
   "execution_count": 42,
   "metadata": {},
   "outputs": [],
   "source": [
    "Test Cases - \n",
    "A = [1,5,10,69,72,79,81,86,88]\n",
    "B = [6,9,15,39,49]\n",
    "\n",
    "A = [1,4,5]\n",
    "B = [2,3,7]\n",
    "\n",
    "A = [1,2,3]\n",
    "B = [4,5,6]\n",
    "\n",
    "A = [2,7]\n",
    "B = [3,4,5,6]\n",
    "\n",
    "A = [1, 2, 4, 5] \n",
    "B = [2, 3]\n",
    "\n",
    "A = [1,2,3,4]\n",
    "B = []\n",
    "\n",
    "A = [ -50, -41, -40, -19, 5, 21, 28 ]\n",
    "B = [ -50, -21, -10 ]\n",
    "\n",
    "A = [ 3, 4, 8, 9, 10, 11 ]\n",
    "B = [ 3, 15, 18, 20, 21, 22 ]\n",
    "\n",
    "A = [ -3, -2, 1, 15 ]\n",
    "B = [ -31, -11 ]\n",
    "\n",
    "A = [ 0, 23 ]\n",
    "B = [ ]\n",
    "\n",
    "A = [-50,-30,10]\n",
    "B = [-50,30,100]"
   ]
  },
  {
   "cell_type": "code",
   "execution_count": null,
   "metadata": {},
   "outputs": [],
   "source": []
  }
 ],
 "metadata": {
  "kernelspec": {
   "display_name": "Python 3",
   "language": "python",
   "name": "python3"
  },
  "language_info": {
   "codemirror_mode": {
    "name": "ipython",
    "version": 3
   },
   "file_extension": ".py",
   "mimetype": "text/x-python",
   "name": "python",
   "nbconvert_exporter": "python",
   "pygments_lexer": "ipython3",
   "version": "3.8.1"
  }
 },
 "nbformat": 4,
 "nbformat_minor": 4
}
