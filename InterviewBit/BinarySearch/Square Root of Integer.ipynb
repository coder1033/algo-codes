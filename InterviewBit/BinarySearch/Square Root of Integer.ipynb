{
 "cells": [
  {
   "cell_type": "code",
   "execution_count": 35,
   "metadata": {},
   "outputs": [
    {
     "name": "stdout",
     "output_type": "stream",
     "text": [
      "11\n"
     ]
    }
   ],
   "source": [
    "A = 122\n",
    "l,h = 0,A\n",
    "while l<=h:\n",
    "    mid = l+(h-l)//2\n",
    "    if mid**2<A:                                #### main #### Square Root of Integer\n",
    "        l=mid+1\n",
    "    elif mid**2>A:\n",
    "        h=mid-1\n",
    "    else:\n",
    "        print(mid)\n",
    "        break\n",
    "else:\n",
    "    print(l-1)"
   ]
  }
 ],
 "metadata": {
  "kernelspec": {
   "display_name": "Python 3",
   "language": "python",
   "name": "python3"
  },
  "language_info": {
   "codemirror_mode": {
    "name": "ipython",
    "version": 3
   },
   "file_extension": ".py",
   "mimetype": "text/x-python",
   "name": "python",
   "nbconvert_exporter": "python",
   "pygments_lexer": "ipython3",
   "version": "3.8.1"
  }
 },
 "nbformat": 4,
 "nbformat_minor": 4
}
