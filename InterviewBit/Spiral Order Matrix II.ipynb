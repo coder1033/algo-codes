{
 "cells": [
  {
   "cell_type": "code",
   "execution_count": 9,
   "metadata": {},
   "outputs": [
    {
     "name": "stdout",
     "output_type": "stream",
     "text": [
      "4\n"
     ]
    },
    {
     "data": {
      "text/plain": [
       "[[1, 2, 3, 4], [12, 13, 14, 5], [11, 16, 15, 6], [10, 9, 8, 7]]"
      ]
     },
     "execution_count": 9,
     "metadata": {},
     "output_type": "execute_result"
    }
   ],
   "source": [
    "def spiralOrder(A):\n",
    "    matrix = [[0]*A for i in range(A)]\n",
    "    i,j = 0,0\n",
    "    M,N = A,A\n",
    "    m,n = M,N\n",
    "    s=1\n",
    "    while True:\n",
    "        f1,f2,f3,f4=0,0,0,0\n",
    "        while j<n:\n",
    "            matrix[i][j]=s\n",
    "            s+=1\n",
    "            #ans+=[nums[i][j]]\n",
    "            j+=1                                  #### main ####\n",
    "            f1=1\n",
    "        j-=1\n",
    "        i+=1\n",
    "        if not f1:\n",
    "            break\n",
    "        while i<m:\n",
    "            matrix[i][j]=s\n",
    "            s+=1\n",
    "            #ans+=[nums[i][j]]\n",
    "            i+=1\n",
    "            f2=1\n",
    "        i-=1\n",
    "        j-=1\n",
    "        if not f2:\n",
    "            break\n",
    "        while j>=N-n:\n",
    "            matrix[i][j]=s\n",
    "            s+=1\n",
    "            #ans+=[nums[i][j]]\n",
    "            j-=1\n",
    "            f3=1\n",
    "        if not f3:\n",
    "            break\n",
    "        j+=1\n",
    "        i-=1\n",
    "        while i>=M-m+1:\n",
    "            matrix[i][j]=s\n",
    "            s+=1\n",
    "            #ans+=[nums[i][j]]\n",
    "            i-=1\n",
    "            f4=1\n",
    "        if not f4:\n",
    "            break\n",
    "        i+=1\n",
    "        j+=1\n",
    "        m-=1\n",
    "        n-=1\n",
    "    return matrix\n",
    "spiralOrder(int(input()))"
   ]
  }
 ],
 "metadata": {
  "kernelspec": {
   "display_name": "Python 3",
   "language": "python",
   "name": "python3"
  },
  "language_info": {
   "codemirror_mode": {
    "name": "ipython",
    "version": 3
   },
   "file_extension": ".py",
   "mimetype": "text/x-python",
   "name": "python",
   "nbconvert_exporter": "python",
   "pygments_lexer": "ipython3",
   "version": "3.8.1"
  }
 },
 "nbformat": 4,
 "nbformat_minor": 4
}
