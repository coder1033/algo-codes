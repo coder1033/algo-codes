{
 "cells": [
  {
   "cell_type": "code",
   "execution_count": 3,
   "metadata": {},
   "outputs": [
    {
     "name": "stdout",
     "output_type": "stream",
     "text": [
      "[[10, 1, 4], [9, 3, 6], [11, 2, 12]]\n"
     ]
    }
   ],
   "source": [
    "A = [[4,6,12],\n",
    "     [1,3,2],                     #### main ####\n",
    "     [10,9,11],\n",
    "    ]                     \n",
    "n = len(A)\n",
    "print([ [A[i][j] for i in range(n-1,-1,-1)] for j in range(n)])"
   ]
  },
  {
   "cell_type": "code",
   "execution_count": 4,
   "metadata": {},
   "outputs": [
    {
     "name": "stdout",
     "output_type": "stream",
     "text": [
      "[[10, 1, 4], [9, 3, 6], [11, 2, 12]]\n"
     ]
    }
   ],
   "source": [
    "A = [[4,6,12],\n",
    "     [1,3,2],\n",
    "     [10,9,11],\n",
    "    ]                     \n",
    "n = len(A)                       #### main #### inplace\n",
    "for i in range(n):\n",
    "    for j in range(i,n):\n",
    "        A[i][j],A[j][i]=A[j][i],A[i][j]\n",
    "for i in range(n):\n",
    "    for j in range(n//2):\n",
    "        A[i][j],A[i][n-j-1]=A[i][n-j-1],A[i][j]\n",
    "print(A)"
   ]
  },
  {
   "cell_type": "code",
   "execution_count": 5,
   "metadata": {},
   "outputs": [
    {
     "data": {
      "text/plain": [
       "500000.0"
      ]
     },
     "execution_count": 5,
     "metadata": {},
     "output_type": "execute_result"
    }
   ],
   "source": [
    "5e5"
   ]
  }
 ],
 "metadata": {
  "kernelspec": {
   "display_name": "Python 3",
   "language": "python",
   "name": "python3"
  },
  "language_info": {
   "codemirror_mode": {
    "name": "ipython",
    "version": 3
   },
   "file_extension": ".py",
   "mimetype": "text/x-python",
   "name": "python",
   "nbconvert_exporter": "python",
   "pygments_lexer": "ipython3",
   "version": "3.8.1"
  }
 },
 "nbformat": 4,
 "nbformat_minor": 4
}
