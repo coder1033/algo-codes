{
 "cells": [
  {
   "cell_type": "code",
   "execution_count": 16,
   "metadata": {},
   "outputs": [
    {
     "name": "stdout",
     "output_type": "stream",
     "text": [
      "[4, 4, 4, 4, 4, 4, 4]\n",
      "[4, 3, 3, 3, 3, 3, 4]\n",
      "[4, 3, 2, 2, 2, 3, 4]\n",
      "[4, 3, 2, 1, 2, 3, 4]\n",
      "[4, 3, 2, 2, 2, 3, 4]\n",
      "[4, 3, 3, 3, 3, 3, 4]\n",
      "[4, 4, 4, 4, 4, 4, 4]\n"
     ]
    }
   ],
   "source": [
    "A = 4\n",
    "\n",
    "ans = []\n",
    "n = A\n",
    "while A:                             #### main #### PRETTYPRINT\n",
    "    t = []\n",
    "    for i in range(n,A,-1):\n",
    "        t += [i]\n",
    "    ans+=[t+[A]*(A*2-1)+t[::-1]]\n",
    "    A-=1\n",
    "ans+=ans[:-1][::-1]\n",
    "print(*ans,sep='\\n')"
   ]
  }
 ],
 "metadata": {
  "kernelspec": {
   "display_name": "Python 3",
   "language": "python",
   "name": "python3"
  },
  "language_info": {
   "codemirror_mode": {
    "name": "ipython",
    "version": 3
   },
   "file_extension": ".py",
   "mimetype": "text/x-python",
   "name": "python",
   "nbconvert_exporter": "python",
   "pygments_lexer": "ipython3",
   "version": "3.8.1"
  }
 },
 "nbformat": 4,
 "nbformat_minor": 4
}
