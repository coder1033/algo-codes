{
 "cells": [
  {
   "cell_type": "code",
   "execution_count": null,
   "metadata": {},
   "outputs": [],
   "source": [
    "A = [1,3,5]\n",
    "D = [2,6,8]\n",
    "K = 1\n",
    "A.sort()\n",
    "D.sort()                             #### main #### Hotel Bookings Possible\n",
    "total = len(A)\n",
    "for i in range(total):\n",
    "    if i+k<total and A[i+k]<B[i]:\n",
    "        return 'No'\n",
    "return 'Yes'"
   ]
  },
  {
   "cell_type": "code",
   "execution_count": null,
   "metadata": {},
   "outputs": [],
   "source": [
    "[ 1, 2, 3, 4 ] B : [ 10, 2, 6, 14 ] C : 2"
   ]
  }
 ],
 "metadata": {
  "kernelspec": {
   "display_name": "Python 3",
   "language": "python",
   "name": "python3"
  },
  "language_info": {
   "codemirror_mode": {
    "name": "ipython",
    "version": 3
   },
   "file_extension": ".py",
   "mimetype": "text/x-python",
   "name": "python",
   "nbconvert_exporter": "python",
   "pygments_lexer": "ipython3",
   "version": "3.8.1"
  }
 },
 "nbformat": 4,
 "nbformat_minor": 4
}
