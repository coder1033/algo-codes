{
 "cells": [
  {
   "cell_type": "code",
   "execution_count": 36,
   "metadata": {},
   "outputs": [
    {
     "name": "stdout",
     "output_type": "stream",
     "text": [
      "[None, 1, None, 5]\n",
      "2\n"
     ]
    }
   ],
   "source": [
    "A = [3,1,3,5]\n",
    "n = len(A)\n",
    "for i in range(n):\n",
    "    if A[i]==None or A[i]<=0:\n",
    "        continue\n",
    "    t = A[i]\n",
    "    while t>0 and t<n+1 and A[t-1]!=None:\n",
    "        t1 = A[t-1]\n",
    "        A[t-1]=None                              #### main #### First Missing Integer\n",
    "        t=t1\n",
    "print(A)\n",
    "for i in range(n):\n",
    "    if A[i]!=None:\n",
    "        print(i+1)\n",
    "        break\n",
    "else:\n",
    "    print(n+1)"
   ]
  },
  {
   "cell_type": "code",
   "execution_count": null,
   "metadata": {},
   "outputs": [],
   "source": [
    "A = [3,4,-1,1]\n",
    "A = [1,2,0]\n",
    "A = [-8, -7, -6]\n",
    "A = [4,3,1,2]\n",
    "A = [-1, 0, 4, 2, 3]\n",
    "A = [3]\n",
    "A = [875,704,56,388,944,163,351,374]\n",
    "A = [-3, -2, 1, 2, 3]\n",
    "A = [1,2,3,4,5]"
   ]
  }
 ],
 "metadata": {
  "kernelspec": {
   "display_name": "Python 3",
   "language": "python",
   "name": "python3"
  },
  "language_info": {
   "codemirror_mode": {
    "name": "ipython",
    "version": 3
   },
   "file_extension": ".py",
   "mimetype": "text/x-python",
   "name": "python",
   "nbconvert_exporter": "python",
   "pygments_lexer": "ipython3",
   "version": "3.8.1"
  }
 },
 "nbformat": 4,
 "nbformat_minor": 4
}
