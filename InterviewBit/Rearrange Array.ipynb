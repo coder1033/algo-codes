{
 "cells": [
  {
   "cell_type": "code",
   "execution_count": 13,
   "metadata": {},
   "outputs": [
    {
     "name": "stdout",
     "output_type": "stream",
     "text": [
      "[3, 4, 2, 0, 1]\n"
     ]
    }
   ],
   "source": [
    "A = [1,0,4,2,3]\n",
    "A = [4,0,2,1,3]\n",
    "n = len(A)\n",
    "for i in range(n):               #### main #### Rearrange Array\n",
    "    A[i]=A[i]+(A[A[i]]%n)*n\n",
    "for i in range(n):\n",
    "    A[i]//=n\n",
    "print(A)"
   ]
  }
 ],
 "metadata": {
  "kernelspec": {
   "display_name": "Python 3",
   "language": "python",
   "name": "python3"
  },
  "language_info": {
   "codemirror_mode": {
    "name": "ipython",
    "version": 3
   },
   "file_extension": ".py",
   "mimetype": "text/x-python",
   "name": "python",
   "nbconvert_exporter": "python",
   "pygments_lexer": "ipython3",
   "version": "3.8.1"
  }
 },
 "nbformat": 4,
 "nbformat_minor": 4
}
