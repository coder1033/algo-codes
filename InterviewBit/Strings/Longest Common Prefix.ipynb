{
 "cells": [
  {
   "cell_type": "code",
   "execution_count": 9,
   "metadata": {},
   "outputs": [
    {
     "name": "stdout",
     "output_type": "stream",
     "text": [
      "ab\n"
     ]
    }
   ],
   "source": [
    "A = [\"abcdefgh\", \"aefghijk\", \"abcefgh\"]\n",
    "A = [\"abab\", \"ab\", \"abcd\"]\n",
    "prefix = ''\n",
    "try: \n",
    "    for i in range(len(A[0])):\n",
    "        curr = A[0][i]                         #### main #### Longest Common Prefix\n",
    "        for j in range(len(A)):\n",
    "            if curr!=A[j][i]:\n",
    "                break\n",
    "        else:\n",
    "            prefix+=curr\n",
    "except:\n",
    "    pass\n",
    "finally:\n",
    "    print(prefix)"
   ]
  }
 ],
 "metadata": {
  "kernelspec": {
   "display_name": "Python 3",
   "language": "python",
   "name": "python3"
  },
  "language_info": {
   "codemirror_mode": {
    "name": "ipython",
    "version": 3
   },
   "file_extension": ".py",
   "mimetype": "text/x-python",
   "name": "python",
   "nbconvert_exporter": "python",
   "pygments_lexer": "ipython3",
   "version": "3.8.1"
  }
 },
 "nbformat": 4,
 "nbformat_minor": 4
}
