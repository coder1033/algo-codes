{
 "cells": [
  {
   "cell_type": "code",
   "execution_count": 11,
   "metadata": {},
   "outputs": [
    {
     "name": "stdout",
     "output_type": "stream",
     "text": [
      "1001110001111010101001110\n"
     ]
    }
   ],
   "source": [
    "la = len(A)\n",
    "lb = len(B)\n",
    "if la>lb:\n",
    "    B = '0'*(la-lb)+B\n",
    "elif la<lb:\n",
    "    A = '0'*(lb-la)+A\n",
    "i=max(la,lb)-1\n",
    "c = '0'\n",
    "res = ''                                            #### main #### Add Binary Strings\n",
    "while i>=0:\n",
    "    if A[i]=='1' and B[i]=='1':\n",
    "        if c=='1':\n",
    "            res+='1'\n",
    "        else:\n",
    "            res+='0'\n",
    "        c='1'\n",
    "    elif A[i]=='1' or B[i]=='1':\n",
    "        if c=='1':\n",
    "            res+='0'\n",
    "        else:\n",
    "            res+='1'\n",
    "    else:\n",
    "        if c=='1':\n",
    "            res+='1'\n",
    "        else:\n",
    "            res+='0'\n",
    "        c='0'\n",
    "    i-=1\n",
    "if c=='1':\n",
    "    res+='1'\n",
    "print(res[::-1])"
   ]
  },
  {
   "cell_type": "code",
   "execution_count": 7,
   "metadata": {},
   "outputs": [
    {
     "data": {
      "text/plain": [
       "True"
      ]
     },
     "execution_count": 7,
     "metadata": {},
     "output_type": "execute_result"
    }
   ],
   "source": [
    "1001110001111010101001110==1001110001111010101001110"
   ]
  }
 ],
 "metadata": {
  "kernelspec": {
   "display_name": "Python 3",
   "language": "python",
   "name": "python3"
  },
  "language_info": {
   "codemirror_mode": {
    "name": "ipython",
    "version": 3
   },
   "file_extension": ".py",
   "mimetype": "text/x-python",
   "name": "python",
   "nbconvert_exporter": "python",
   "pygments_lexer": "ipython3",
   "version": "3.8.1"
  }
 },
 "nbformat": 4,
 "nbformat_minor": 4
}
