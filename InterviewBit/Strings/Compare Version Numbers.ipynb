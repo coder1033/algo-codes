{
 "cells": [
  {
   "cell_type": "code",
   "execution_count": 34,
   "metadata": {},
   "outputs": [
    {
     "name": "stdout",
     "output_type": "stream",
     "text": [
      "['1', '1'] ['1', '13', '4']\n"
     ]
    },
    {
     "data": {
      "text/plain": [
       "-1"
      ]
     },
     "execution_count": 34,
     "metadata": {},
     "output_type": "execute_result"
    }
   ],
   "source": [
    "def func(A,B):\n",
    "    A = A.split('.')\n",
    "    B = B.split('.')\n",
    "    i,j = 0,0\n",
    "    #print(A,B)\n",
    "    while i<len(A) and j<len(B):              #### main #### Compare Version Numbers\n",
    "        if int(A[i])==int(B[j]):\n",
    "            i+=1\n",
    "            j+=1\n",
    "            continue\n",
    "        elif int(A[i])>int(B[j]):\n",
    "            return 1\n",
    "        else:\n",
    "            return -1\n",
    "    if i==len(A) and j==len(B):\n",
    "        return 0\n",
    "    elif i==len(A):\n",
    "        if B[j:].count('0')==len(B)-j:\n",
    "            #print(len(B),j)\n",
    "            return 0\n",
    "        return -1\n",
    "    else:\n",
    "        if A[i:].count('0')==len(A)-i:\n",
    "            #print(len(A),i)\n",
    "            return 0\n",
    "        return 1\n",
    "A = '1.1'\n",
    "B = '1.13.4'\n",
    "func(A,B)"
   ]
  },
  {
   "cell_type": "code",
   "execution_count": 35,
   "metadata": {},
   "outputs": [
    {
     "data": {
      "text/plain": [
       "0"
      ]
     },
     "execution_count": 35,
     "metadata": {},
     "output_type": "execute_result"
    }
   ],
   "source": [
    "def compareVersion(A, B):\n",
    "    a=list(map(int,A.split('.')))\n",
    "    x=len(a)\n",
    "    b=list(map(int,B.split('.')))\n",
    "    y=len(b)\n",
    "    while(x>y):\n",
    "        b.append(0)\n",
    "        y+=1\n",
    "    while(y>x):\n",
    "        a.append(0)\n",
    "        x+=1\n",
    "    if a>b:\n",
    "        return 1\n",
    "    if a<b:\n",
    "        return -1\n",
    "    return 0\n",
    "A = \"1.01.0.0\"\n",
    "B = \"1.01\"\n",
    "\n",
    "compareVersion(A,B)"
   ]
  }
 ],
 "metadata": {
  "kernelspec": {
   "display_name": "Python 3",
   "language": "python",
   "name": "python3"
  },
  "language_info": {
   "codemirror_mode": {
    "name": "ipython",
    "version": 3
   },
   "file_extension": ".py",
   "mimetype": "text/x-python",
   "name": "python",
   "nbconvert_exporter": "python",
   "pygments_lexer": "ipython3",
   "version": "3.8.1"
  }
 },
 "nbformat": 4,
 "nbformat_minor": 4
}
