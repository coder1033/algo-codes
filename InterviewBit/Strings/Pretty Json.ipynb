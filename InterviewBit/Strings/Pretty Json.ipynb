{
 "cells": [
  {
   "cell_type": "code",
   "execution_count": null,
   "metadata": {},
   "outputs": [],
   "source": [
    "def prettyJSON(A):\n",
    "    indent = 0\n",
    "    ans = []\n",
    "    curr = ''\n",
    "    for i in A:\n",
    "        if i=='{' or i=='[':\n",
    "            if curr:\n",
    "                ans+=[curr]\n",
    "                curr=''                                #### main #### Pretty Json\n",
    "            ans+=[indent*'\\t'+i]\n",
    "            indent+=1\n",
    "        elif i=='}' or i==']':\n",
    "            if curr:\n",
    "                ans+=[curr]\n",
    "                curr=''\n",
    "            indent-=1\n",
    "            curr = indent*'\\t'+i\n",
    "        elif i==',':\n",
    "            curr+=','\n",
    "            ans+=[curr]\n",
    "            curr=''\n",
    "        else:\n",
    "            if curr=='':\n",
    "                curr+='\\t'*indent\n",
    "            curr+=i\n",
    "    if curr:\n",
    "        ans+=[curr]\n",
    "    return ans\n",
    "A = '[\"foo\", {\"bar\":[\"baz\",null,1.0,2]}]'\n",
    "print(*prettyJSON(A),sep='\\n')\n",
    "A = '{A:\"B\",C:{D:\"E\",F:{G:\"H\",I:\"J\"}}}'\n",
    "print(*prettyJSON(A),sep='\\n')"
   ]
  },
  {
   "cell_type": "code",
   "execution_count": null,
   "metadata": {},
   "outputs": [],
   "source": [
    "{\"attributes\":[{\"nm\":\"ACCOUNT\",\"lv\":[{\"v\":{\"Id\":null,\"State\":null},\"vt\":\"java.util.Map\",\"cn\":1}],\"vt\":\"java.util.Map\",\"status\":\"SUCCESS\",\"lmd\":13585},{\"nm\":\"PROFILE\",\"lv\":[{\"v\":{\"Party\":null,\"Ads\":null},\"vt\":\"java.util.Map\",\"cn\":2}],\"vt\":\"java.util.Map\",\"status\":\"SUCCESS\",\"lmd\":41962}]}"
   ]
  }
 ],
 "metadata": {
  "kernelspec": {
   "display_name": "Python 3",
   "language": "python",
   "name": "python3"
  },
  "language_info": {
   "codemirror_mode": {
    "name": "ipython",
    "version": 3
   },
   "file_extension": ".py",
   "mimetype": "text/x-python",
   "name": "python",
   "nbconvert_exporter": "python",
   "pygments_lexer": "ipython3",
   "version": "3.8.1"
  }
 },
 "nbformat": 4,
 "nbformat_minor": 4
}
