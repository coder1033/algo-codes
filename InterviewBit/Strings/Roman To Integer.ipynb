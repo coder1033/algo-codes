{
 "cells": [
  {
   "cell_type": "code",
   "execution_count": 23,
   "metadata": {},
   "outputs": [
    {
     "name": "stdout",
     "output_type": "stream",
     "text": [
      "999\n"
     ]
    }
   ],
   "source": [
    "A = 'IM'\n",
    "\n",
    "d = {'I':1,'V':5,'X':10,'L':50,'C':100,'D':500,'M':1000}\n",
    "ans = 0\n",
    "l = len(A)\n",
    "i = 0\n",
    "while i<l-1:                                  #### main ####  Roman To Integer\n",
    "    if d[A[i]]<d[A[i+1]]:\n",
    "        ans+=d[A[i+1]]-d[A[i]]\n",
    "        i+=2\n",
    "    else:\n",
    "        ans+=d[A[i]]\n",
    "        i+=1\n",
    "if i==l-1:\n",
    "    ans+=d[A[i]]\n",
    "print(ans)"
   ]
  }
 ],
 "metadata": {
  "kernelspec": {
   "display_name": "Python 3",
   "language": "python",
   "name": "python3"
  },
  "language_info": {
   "codemirror_mode": {
    "name": "ipython",
    "version": 3
   },
   "file_extension": ".py",
   "mimetype": "text/x-python",
   "name": "python",
   "nbconvert_exporter": "python",
   "pygments_lexer": "ipython3",
   "version": "3.8.1"
  }
 },
 "nbformat": 4,
 "nbformat_minor": 4
}
