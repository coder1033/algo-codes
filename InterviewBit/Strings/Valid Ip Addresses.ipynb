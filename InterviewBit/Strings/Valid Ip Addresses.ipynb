{
 "cells": [
  {
   "cell_type": "code",
   "execution_count": 1,
   "metadata": {},
   "outputs": [
    {
     "data": {
      "text/plain": [
       "['255.255.11.135', '255.255.111.35']"
      ]
     },
     "execution_count": 1,
     "metadata": {},
     "output_type": "execute_result"
    }
   ],
   "source": [
    "def restoreIpAddresses(A):\n",
    "    def nextNo(N):\n",
    "        for i in range(3,-1,-1):\n",
    "            if N[i]!=3:\n",
    "                N[i]+=1\n",
    "                for i in range(i+1,4):\n",
    "                    N[i]=1\n",
    "                break\n",
    "        N[-1]=sum(N[:-1])\n",
    "        return N                                      #### main #### Valid Ip Addresses\n",
    "    def isValid(a):\n",
    "        if len(a)==1 and int(a)<256:\n",
    "            return True\n",
    "        elif a[0]!='0' and int(a)<256:\n",
    "            return True\n",
    "        else:\n",
    "            return False\n",
    "\n",
    "    l = len(A)\n",
    "    N = [1, 1, 1, 1, 4]\n",
    "    ans = []\n",
    "    while True:\n",
    "        if N[-1]==l:\n",
    "            e1 = A[0:N[0]]\n",
    "            e2 = A[N[0]:N[0]+N[1]]\n",
    "            e3 = A[N[0]+N[1]:N[0]+N[1]+N[2]]\n",
    "            e4 = A[N[0]+N[1]+N[2]:N[0]+N[1]+N[2]+N[3]]\n",
    "            if isValid(e1) and isValid(e2) and isValid(e3) and isValid(e4):\n",
    "                ans.append('{0}.{1}.{2}.{3}'.format(e1,e2,e3,e4))\n",
    "        if N[-1]==12:\n",
    "            break\n",
    "        N = nextNo(N)\n",
    "\n",
    "    return ans\n",
    "A = '25525511135'\n",
    "restoreIpAddresses(A)"
   ]
  }
 ],
 "metadata": {
  "kernelspec": {
   "display_name": "Python 3",
   "language": "python",
   "name": "python3"
  },
  "language_info": {
   "codemirror_mode": {
    "name": "ipython",
    "version": 3
   },
   "file_extension": ".py",
   "mimetype": "text/x-python",
   "name": "python",
   "nbconvert_exporter": "python",
   "pygments_lexer": "ipython3",
   "version": "3.8.1"
  }
 },
 "nbformat": 4,
 "nbformat_minor": 4
}
