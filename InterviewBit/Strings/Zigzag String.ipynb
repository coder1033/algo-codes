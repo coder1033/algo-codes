{
 "cells": [
  {
   "cell_type": "code",
   "execution_count": 17,
   "metadata": {},
   "outputs": [
    {
     "name": "stdout",
     "output_type": "stream",
     "text": [
      "PAHNAPLSIIGYIR\n",
      "ACBD\n"
     ]
    }
   ],
   "source": [
    "def convert(A, B):\n",
    "    if B==1:\n",
    "        return A\n",
    "    ans = ['']*B                           #### main #### Zigzag String\n",
    "    curr = 0\n",
    "    updown = 'd'\n",
    "    for i in A:\n",
    "        ans[curr]+=i\n",
    "        if updown=='d':\n",
    "            if curr+1==B:\n",
    "                updown = 'u'\n",
    "                curr -= 1\n",
    "            else:\n",
    "                curr += 1\n",
    "        elif updown=='u':\n",
    "            if curr==0:\n",
    "                updown = 'd'\n",
    "                curr += 1\n",
    "            else:\n",
    "                curr -= 1\n",
    "    return ''.join(ans)\n",
    "A = 'PAYPALISHIRING'\n",
    "B = 3\n",
    "print(convert(A,B))\n",
    "A = 'ABCD'\n",
    "B = 2\n",
    "print(convert(A,B))"
   ]
  }
 ],
 "metadata": {
  "kernelspec": {
   "display_name": "Python 3",
   "language": "python",
   "name": "python3"
  },
  "language_info": {
   "codemirror_mode": {
    "name": "ipython",
    "version": 3
   },
   "file_extension": ".py",
   "mimetype": "text/x-python",
   "name": "python",
   "nbconvert_exporter": "python",
   "pygments_lexer": "ipython3",
   "version": "3.8.1"
  }
 },
 "nbformat": 4,
 "nbformat_minor": 4
}
