{
 "cells": [
  {
   "cell_type": "code",
   "execution_count": 1,
   "metadata": {},
   "outputs": [
    {
     "name": "stdout",
     "output_type": "stream",
     "text": [
      "DCCCLXXIV\n"
     ]
    }
   ],
   "source": [
    "A = 874\n",
    "maps = {1: 'I', 4:'IV', 5: 'V', 9: 'IX', 10: 'X', \n",
    "        40: 'XL', 50: 'L', 90: 'XC', 100: 'C', 400:'CD', \n",
    "        500: 'D', 900:'CM', 1000: 'M'}\n",
    "std = sorted(maps, reverse=True)                       #### main #### Integer To Roman\n",
    "ans = ''\n",
    "for i in std:\n",
    "    ans += maps[i]*(A//i)\n",
    "    A%=i\n",
    "print(ans)"
   ]
  },
  {
   "cell_type": "code",
   "execution_count": 2,
   "metadata": {},
   "outputs": [
    {
     "name": "stdout",
     "output_type": "stream",
     "text": [
      "DCCCLXXIV\n"
     ]
    }
   ],
   "source": [
    "A = 874\n",
    "\n",
    "d = {1: 'I', 5: 'V', 10: 'X', 50: 'L', 100: 'C', 500: 'D', 1000: 'M'}\n",
    "ans = ''\n",
    "\n",
    "ans+='M'*(A//1000)\n",
    "A%=1000\n",
    "if A>=900:\n",
    "    ans+='CM'\n",
    "    A-=900\n",
    "if A>=500:\n",
    "    ans+='D'\n",
    "    A-=500                                  #### How loop works in the above method is elaborated in this snippet\n",
    "if A>=400:\n",
    "    ans+='CD'\n",
    "    A-=400\n",
    "if A>=100:\n",
    "    ans+='C'*(A//100)\n",
    "    A%=100\n",
    "if A>=90:\n",
    "    ans+='XC'\n",
    "    A-=90\n",
    "if A>=50:\n",
    "    ans+='L'\n",
    "    A-=50\n",
    "if A>=40:\n",
    "    ans+='XL'\n",
    "    A-=40\n",
    "if A>=10:\n",
    "    ans+='X'*(A//10)\n",
    "    A%=10\n",
    "if A>=9:\n",
    "    ans+='IX'\n",
    "    A-=9\n",
    "if A>=5:\n",
    "    ans+='V'\n",
    "    A-=5\n",
    "if A>=4:\n",
    "    ans+='IV'\n",
    "    A-=4\n",
    "ans+='I'*A\n",
    "print(ans)"
   ]
  }
 ],
 "metadata": {
  "kernelspec": {
   "display_name": "Python 3",
   "language": "python",
   "name": "python3"
  },
  "language_info": {
   "codemirror_mode": {
    "name": "ipython",
    "version": 3
   },
   "file_extension": ".py",
   "mimetype": "text/x-python",
   "name": "python",
   "nbconvert_exporter": "python",
   "pygments_lexer": "ipython3",
   "version": "3.8.1"
  }
 },
 "nbformat": 4,
 "nbformat_minor": 4
}
