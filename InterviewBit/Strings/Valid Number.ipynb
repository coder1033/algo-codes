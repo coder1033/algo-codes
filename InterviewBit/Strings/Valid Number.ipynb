{
 "cells": [
  {
   "cell_type": "code",
   "execution_count": 83,
   "metadata": {},
   "outputs": [
    {
     "data": {
      "text/plain": [
       "1"
      ]
     },
     "execution_count": 83,
     "metadata": {},
     "output_type": "execute_result"
    }
   ],
   "source": [
    "def find(A):\n",
    "    A  = A.lstrip().rstrip()\n",
    "\n",
    "    if not A:\n",
    "        return 0\n",
    "    if A[0]=='+' or A[0]=='-' and len(A)==1 or A[-1]=='e' or A[-1]=='-' or A[-1]=='+' or A[-1]=='.':\n",
    "        return 0\n",
    "    sign = 0\n",
    "    power = None\n",
    "    decimal = None\n",
    "    for idx,i in enumerate(A):\n",
    "        sign+=1\n",
    "        if not i.isdigit():\n",
    "            if i=='+' or i=='-':\n",
    "                if sign!=1:\n",
    "                    return 0                            #### main #### Valid Number\n",
    "            elif i=='.':\n",
    "                if decimal or power:\n",
    "                    return 0\n",
    "                else:\n",
    "                    decimal = '.'\n",
    "            elif i=='e':\n",
    "                if power or idx==0 or A[idx-1]=='.':\n",
    "                    return 0\n",
    "                else:\n",
    "                    power = 'e'\n",
    "                    sign = 0\n",
    "            else:\n",
    "                return 0\n",
    "    return 1\n",
    "A = '0.1'\n",
    "find(A)\n",
    "   "
   ]
  },
  {
   "cell_type": "code",
   "execution_count": 80,
   "metadata": {},
   "outputs": [
    {
     "data": {
      "text/plain": [
       "123.0"
      ]
     },
     "execution_count": 80,
     "metadata": {},
     "output_type": "execute_result"
    }
   ],
   "source": [
    "TestCases -  \n",
    "A = 'abc'\n",
    "A = '0.1'\n",
    "A = '0'\n",
    "A = '1 a'\n",
    "A = '2e10'\n",
    "A = '1u'\n",
    "A = '0.1e10'\n",
    "A = '-01.1e-10'\n",
    "A = '0xFF'\n",
    "A = '3.'\n",
    "A = '3.4e+5'\n",
    "A = '3e0.1'\n",
    "A = '1f'\n",
    "A = '1000LL'\n",
    "A = '1000L'\n",
    "A = '008'\n",
    "A = ' 0.1'\n",
    "A = '    '\n",
    "A = '1.-e1'\n",
    "A = 'e0'\n",
    "A = '.1'\n",
    "A = '34345e1.4'\n",
    "A = '1.2e134'\n",
    "A = '-01.1e-10'\n",
    "A = '.123e34'"
   ]
  }
 ],
 "metadata": {
  "kernelspec": {
   "display_name": "Python 3",
   "language": "python",
   "name": "python3"
  },
  "language_info": {
   "codemirror_mode": {
    "name": "ipython",
    "version": 3
   },
   "file_extension": ".py",
   "mimetype": "text/x-python",
   "name": "python",
   "nbconvert_exporter": "python",
   "pygments_lexer": "ipython3",
   "version": "3.8.1"
  }
 },
 "nbformat": 4,
 "nbformat_minor": 4
}
