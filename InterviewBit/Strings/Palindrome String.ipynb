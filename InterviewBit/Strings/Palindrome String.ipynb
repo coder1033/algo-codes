{
 "cells": [
  {
   "cell_type": "code",
   "execution_count": 35,
   "metadata": {},
   "outputs": [
    {
     "name": "stdout",
     "output_type": "stream",
     "text": [
      "1\n"
     ]
    }
   ],
   "source": [
    "A = \"A man, a plan, a canal: Panama\"\n",
    "s = ''\n",
    "l = 0\n",
    "for i in A:                                #### main #### Palindrome String\n",
    "    if i.isalnum():\n",
    "        s+=i.lower()\n",
    "        l+=1\n",
    "for i in range(l//2):\n",
    "    if s[i]!=s[l-i-1]:\n",
    "        print(0)\n",
    "        break\n",
    "else:\n",
    "    print(1)"
   ]
  }
 ],
 "metadata": {
  "kernelspec": {
   "display_name": "Python 3",
   "language": "python",
   "name": "python3"
  },
  "language_info": {
   "codemirror_mode": {
    "name": "ipython",
    "version": 3
   },
   "file_extension": ".py",
   "mimetype": "text/x-python",
   "name": "python",
   "nbconvert_exporter": "python",
   "pygments_lexer": "ipython3",
   "version": "3.8.1"
  }
 },
 "nbformat": 4,
 "nbformat_minor": 4
}
