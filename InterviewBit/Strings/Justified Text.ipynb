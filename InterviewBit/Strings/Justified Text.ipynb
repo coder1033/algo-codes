{
 "cells": [
  {
   "cell_type": "code",
   "execution_count": 1,
   "metadata": {},
   "outputs": [],
   "source": [
    "def fullJustify(A, L):\n",
    "        currstr = []\n",
    "        currl = 0\n",
    "        currw = 0\n",
    "        ans = []\n",
    "        i = 0\n",
    "        while i<len(A):                             #### main #### Justified Text\n",
    "            s = A[i]\n",
    "            if not currstr:\n",
    "                currstr += [s]\n",
    "                currl   += len(s)\n",
    "                currw   += 1\n",
    "                if currl==L:\n",
    "                    ans+=[currstr[0]]\n",
    "                    currstr=[]\n",
    "                    currl = 0\n",
    "                    currw = 0\n",
    "                i+=1\n",
    "            elif currl+len(s)<L:\n",
    "                currstr+=[' '+s]\n",
    "                currl+=len(s)+1\n",
    "                currw+=1\n",
    "                if currl==L:\n",
    "                    ans+=[''.join(currstr)]\n",
    "                    currstr = []\n",
    "                    currl=0\n",
    "                    currw=0\n",
    "                i+=1\n",
    "            else:\n",
    "                pad = L-currl\n",
    "                if currw==1 or currw==2:\n",
    "                    currstr[0] += ' '*pad\n",
    "                    ans += [''.join(currstr)]\n",
    "                else:    \n",
    "                    t = pad//(currw-1)\n",
    "                    pad-=t*(currw-1)\n",
    "                    for t1 in range(len(currstr[:-1])):\n",
    "                        currstr[t1]+=' '*t\n",
    "                    ans += [' '.join(currstr[:pad+1])+''.join(currstr[pad+1:])]\n",
    "                currstr = []\n",
    "                currl = 0\n",
    "                currw=0\n",
    "            #print(ans,currstr)\n",
    "        if currstr:\n",
    "            ans+=[''.join(currstr)+' '*(L-currl)]\n",
    "        return ans"
   ]
  },
  {
   "cell_type": "code",
   "execution_count": 2,
   "metadata": {},
   "outputs": [
    {
     "name": "stdout",
     "output_type": "stream",
     "text": [
      "zoea cmdw l bxcyofzw jwzr kwjpyevjxq\n",
      "queigj    xf    abighmqbtf   txjysly\n",
      "fqcxvxokgm    uc    fefqtpkd    ctbv\n",
      "pmgrbggjq  henz zubxjlxodp yhxhl rii\n",
      "rxribedfv tywrhilgsb xz             \n"
     ]
    }
   ],
   "source": [
    "A = [ \"zoea\", \"cmdw\", \"l\", \"bxcyofzw\", \"jwzr\", \"kwjpyevjxq\", \"queigj\", \"xf\", \"abighmqbtf\", \"txjysly\", \"fqcxvxokgm\", \"uc\", \"fefqtpkd\", \"ctbv\", \"pmgrbggjq\", \"henz\", \"zubxjlxodp\", \"yhxhl\", \"rii\", \"rxribedfv\", \"tywrhilgsb\", \"xz\" ]\n",
    "B = 36\n",
    "print(*fullJustify(A,B),sep='\\n')"
   ]
  },
  {
   "cell_type": "code",
   "execution_count": 3,
   "metadata": {},
   "outputs": [],
   "source": [
    "A = [ \"zoea\", \"cmdw\", \"l\", \"bxcyofzw\", \"jwzr\", \"kwjpyevjxq\", \"queigj\", \"xf\", \"abighmqbtf\", \"txjysly\", \"fqcxvxokgm\", \"uc\", \"fefqtpkd\", \"ctbv\", \"pmgrbggjq\", \"henz\", \"zubxjlxodp\", \"yhxhl\", \"rii\", \"rxribedfv\", \"tywrhilgsb\", \"xz\" ]\n",
    "B = 36\n",
    "'''zoea cmdw l bxcyofzw jwzr kwjpyevjxq\n",
    "queigj    xf    abighmqbtf   txjysly\n",
    "fqcxvxokgm    uc    fefqtpkd    ctbv\n",
    "pmgrbggjq  henz zubxjlxodp yhxhl rii\n",
    "rxribedfv tywrhilgsb xz             '''"
   ]
  }
 ],
 "metadata": {
  "kernelspec": {
   "display_name": "Python 3",
   "language": "python",
   "name": "python3"
  },
  "language_info": {
   "codemirror_mode": {
    "name": "ipython",
    "version": 3
   },
   "file_extension": ".py",
   "mimetype": "text/x-python",
   "name": "python",
   "nbconvert_exporter": "python",
   "pygments_lexer": "ipython3",
   "version": "3.8.1"
  }
 },
 "nbformat": 4,
 "nbformat_minor": 4
}
