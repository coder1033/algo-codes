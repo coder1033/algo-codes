{
 "cells": [
  {
   "cell_type": "code",
   "execution_count": 29,
   "metadata": {},
   "outputs": [
    {
     "name": "stdout",
     "output_type": "stream",
     "text": [
      "111221\n"
     ]
    }
   ],
   "source": [
    "A = 5\n",
    "s = '1'\n",
    "start,end=0,1\n",
    "while A-1:\n",
    "    res = ''\n",
    "    curr = s[start]\n",
    "    curr_count = 1                                #### main #### Count And Say\n",
    "    l = 0\n",
    "    for i in range(start+1,end):\n",
    "        if curr==s[i]:\n",
    "            curr_count+=1\n",
    "        else:\n",
    "            s+=str(curr_count)+curr\n",
    "            l+=1+len(str(curr_count))\n",
    "            curr = s[i]\n",
    "            curr_count = 1\n",
    "    s+=str(curr_count)+curr\n",
    "    l+=1+len(str(curr_count))\n",
    "    start,end=end,end+l\n",
    "    A-=1\n",
    "print(s[start:end])"
   ]
  }
 ],
 "metadata": {
  "kernelspec": {
   "display_name": "Python 3",
   "language": "python",
   "name": "python3"
  },
  "language_info": {
   "codemirror_mode": {
    "name": "ipython",
    "version": 3
   },
   "file_extension": ".py",
   "mimetype": "text/x-python",
   "name": "python",
   "nbconvert_exporter": "python",
   "pygments_lexer": "ipython3",
   "version": "3.8.1"
  }
 },
 "nbformat": 4,
 "nbformat_minor": 4
}
