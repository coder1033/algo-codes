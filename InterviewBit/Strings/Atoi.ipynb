{
 "cells": [
  {
   "cell_type": "code",
   "execution_count": 40,
   "metadata": {},
   "outputs": [
    {
     "name": "stdout",
     "output_type": "stream",
     "text": [
      "7\n"
     ]
    }
   ],
   "source": [
    "A = '7 U 0 T7165 0128862 089 39 5'\n",
    "A = A.lstrip()\n",
    "if not A:\n",
    "    print(0)\n",
    "elif 1<len(A) and (A[0]=='+' or A[0]=='-') and A[1].isdigit():\n",
    "    sign = A[0]\n",
    "    res = '-' if sign=='-' else ''\n",
    "    for i in A[1:]:\n",
    "        if i.isdigit():\n",
    "            res+=i\n",
    "        else:\n",
    "            break                                     #### main #### Atoi\n",
    "    res = int(res)\n",
    "    if res>2147483647:\n",
    "        print(2147483647)\n",
    "    elif res<-2147483648:\n",
    "        print(-2147483648)\n",
    "    else:\n",
    "        print(int(res))\n",
    "elif A[0].isdigit():\n",
    "    res = ''\n",
    "    for i in A:\n",
    "        if i.isdigit():\n",
    "            res+=i\n",
    "        else:\n",
    "            break\n",
    "    res = int(res)\n",
    "    if res>2147483647:\n",
    "        print(2147483647)\n",
    "    elif res<-2147483648:\n",
    "        print(-2147483648)\n",
    "    else:\n",
    "        print(int(res))\n",
    "else:\n",
    "    print(0)"
   ]
  }
 ],
 "metadata": {
  "kernelspec": {
   "display_name": "Python 3",
   "language": "python",
   "name": "python3"
  },
  "language_info": {
   "codemirror_mode": {
    "name": "ipython",
    "version": 3
   },
   "file_extension": ".py",
   "mimetype": "text/x-python",
   "name": "python",
   "nbconvert_exporter": "python",
   "pygments_lexer": "ipython3",
   "version": "3.8.1"
  }
 },
 "nbformat": 4,
 "nbformat_minor": 4
}
