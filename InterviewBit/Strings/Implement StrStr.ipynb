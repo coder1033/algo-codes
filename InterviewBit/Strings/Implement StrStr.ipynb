{
 "cells": [
  {
   "cell_type": "code",
   "execution_count": 8,
   "metadata": {},
   "outputs": [
    {
     "name": "stdout",
     "output_type": "stream",
     "text": [
      "3\n"
     ]
    }
   ],
   "source": [
    "A = 'abbbbcdd'\n",
    "B = 'bbcd'\n",
    "def LPS(s):\n",
    "    l = len(s)\n",
    "    lps = [0]*l\n",
    "    i,j = 1,0\n",
    "    while i<l:                          #### main #### Implement StrStr\n",
    "        if s[i]==s[j]:\n",
    "            j+=1\n",
    "            lps[i]=j\n",
    "            i+=1\n",
    "        elif j!=0:\n",
    "            j = lps[j-1]\n",
    "        else:\n",
    "            lps[i]=0\n",
    "            i+=1\n",
    "    return lps\n",
    "lps = LPS(B)\n",
    "#print(lps)\n",
    "l = len(A)\n",
    "j = 0\n",
    "i = 0\n",
    "while i<l:\n",
    "    if A[i]==B[j]:\n",
    "        j+=1\n",
    "        i+=1\n",
    "    if j==len(B):\n",
    "        print(i-j)\n",
    "        break\n",
    "    elif i<l and A[i]!=B[j]:\n",
    "        if j:\n",
    "            j=lps[j-1]\n",
    "        else:\n",
    "            i+=1\n",
    "else:\n",
    "    print(-1)"
   ]
  }
 ],
 "metadata": {
  "kernelspec": {
   "display_name": "Python 3",
   "language": "python",
   "name": "python3"
  },
  "language_info": {
   "codemirror_mode": {
    "name": "ipython",
    "version": 3
   },
   "file_extension": ".py",
   "mimetype": "text/x-python",
   "name": "python",
   "nbconvert_exporter": "python",
   "pygments_lexer": "ipython3",
   "version": "3.8.1"
  }
 },
 "nbformat": 4,
 "nbformat_minor": 4
}
