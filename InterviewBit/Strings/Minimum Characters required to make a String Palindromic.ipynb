{
 "cells": [
  {
   "cell_type": "code",
   "execution_count": 22,
   "metadata": {},
   "outputs": [],
   "source": [
    "def LPS(s):\n",
    "    s = s+'#'+s[::-1]\n",
    "    l = len(s)\n",
    "    lps = [0]*(l)\n",
    "    i=1\n",
    "    j=0\n",
    "    while i<l:                             #### main #### Minimum Characters required to make a String Palindromic\n",
    "        if s[i]==s[j]:\n",
    "            j+=1\n",
    "            lps[i]=j\n",
    "            i+=1\n",
    "        elif j!=0:\n",
    "            j = lps[j-1]\n",
    "        else:\n",
    "            lps[i]=0\n",
    "            i+=1\n",
    "    return lps[-1]\n",
    "\n",
    "A = 'abab'\n",
    "print(len(A)-LPS(A))"
   ]
  }
 ],
 "metadata": {
  "kernelspec": {
   "display_name": "Python 3",
   "language": "python",
   "name": "python3"
  },
  "language_info": {
   "codemirror_mode": {
    "name": "ipython",
    "version": 3
   },
   "file_extension": ".py",
   "mimetype": "text/x-python",
   "name": "python",
   "nbconvert_exporter": "python",
   "pygments_lexer": "ipython3",
   "version": "3.8.1"
  }
 },
 "nbformat": 4,
 "nbformat_minor": 4
}
