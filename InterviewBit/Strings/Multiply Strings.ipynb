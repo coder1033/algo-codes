{
 "cells": [
  {
   "cell_type": "code",
   "execution_count": 7,
   "metadata": {},
   "outputs": [
    {
     "name": "stdout",
     "output_type": "stream",
     "text": [
      "120\n"
     ]
    }
   ],
   "source": [
    "A = '12'\n",
    "B = '10'\n",
    "\n",
    "z = 0\n",
    "l = len(A)+len(B)\n",
    "res = [0]*(l)\n",
    "for i in B[::-1]:                     #### main #### Multiply Strings\n",
    "    idx = l-z-1\n",
    "    for j in A[::-1]:\n",
    "        k = int(i)*int(j)\n",
    "        res[idx]+=k\n",
    "        idx-=1\n",
    "    z+=1\n",
    "\n",
    "c = 0\n",
    "for i in range(l-1,-1,-1):\n",
    "    t = (res[i]+c)//10\n",
    "    res[i]=(res[i]+c)%10\n",
    "    c = t\n",
    "    \n",
    "res = ''.join(map(str,res)).lstrip('0')\n",
    "if len(res):\n",
    "    print(''.join(map(str,res)).lstrip('0'))\n",
    "else:\n",
    "    print('0')"
   ]
  },
  {
   "cell_type": "code",
   "execution_count": 10,
   "metadata": {},
   "outputs": [
    {
     "data": {
      "text/plain": [
       "62"
      ]
     },
     "execution_count": 10,
     "metadata": {},
     "output_type": "execute_result"
    }
   ],
   "source": [
    "len(A)+len(B)"
   ]
  },
  {
   "cell_type": "code",
   "execution_count": 12,
   "metadata": {},
   "outputs": [
    {
     "data": {
      "text/plain": [
       "61"
      ]
     },
     "execution_count": 12,
     "metadata": {},
     "output_type": "execute_result"
    }
   ],
   "source": [
    "len(str(int(A)*int(B)))"
   ]
  },
  {
   "cell_type": "code",
   "execution_count": 29,
   "metadata": {},
   "outputs": [
    {
     "data": {
      "text/plain": [
       "True"
      ]
     },
     "execution_count": 29,
     "metadata": {},
     "output_type": "execute_result"
    }
   ],
   "source": [
    "2118187521397235888154583183918321221520083884298838480662480==2118187521397235888154583183918321221520083884298838480662480"
   ]
  },
  {
   "cell_type": "code",
   "execution_count": 27,
   "metadata": {},
   "outputs": [
    {
     "data": {
      "text/plain": [
       "32076"
      ]
     },
     "execution_count": 27,
     "metadata": {},
     "output_type": "execute_result"
    }
   ],
   "source": [
    "324*99"
   ]
  }
 ],
 "metadata": {
  "kernelspec": {
   "display_name": "Python 3",
   "language": "python",
   "name": "python3"
  },
  "language_info": {
   "codemirror_mode": {
    "name": "ipython",
    "version": 3
   },
   "file_extension": ".py",
   "mimetype": "text/x-python",
   "name": "python",
   "nbconvert_exporter": "python",
   "pygments_lexer": "ipython3",
   "version": "3.8.1"
  }
 },
 "nbformat": 4,
 "nbformat_minor": 4
}
