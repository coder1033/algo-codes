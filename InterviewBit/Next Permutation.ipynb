{
 "cells": [
  {
   "cell_type": "code",
   "execution_count": 16,
   "metadata": {},
   "outputs": [
    {
     "name": "stdout",
     "output_type": "stream",
     "text": [
      "[1, 5, 6, 3, 6, 2, 4, 5, 7, 9, 9]\n"
     ]
    }
   ],
   "source": [
    "A = [1,5,6,3,5,9,9,7,6,4,2]\n",
    "n = len(A)\n",
    "f = None\n",
    "for i in range(n-2,-1,-1):\n",
    "    if A[i]<A[i+1]:\n",
    "        f = i\n",
    "        break\n",
    "if f==None:                                  #### main #### Next Permutation\n",
    "    print(A[::-1])\n",
    "else:\n",
    "    e = None\n",
    "    for i in range(f+1,n):\n",
    "        if A[i]<A[f]:\n",
    "            break\n",
    "        e = i\n",
    "    A[e],A[f]=A[f],A[e]\n",
    "    for i in range((n-f-1)//2):\n",
    "        A[i+f+1],A[n-i-1]=A[n-i-1],A[i+f+1]\n",
    "    print(A)"
   ]
  },
  {
   "cell_type": "code",
   "execution_count": null,
   "metadata": {},
   "outputs": [],
   "source": [
    "A = [1,5,6,3,5,9,9,7,6,4,2]\n",
    "A = [1,2,3]\n",
    "A = [3,2,1]\n",
    "A = [1,3,2]\n",
    "A = [1,1,5]\n",
    "A = [20, 50, 113]\n",
    "A = [59, 854, 422]\n",
    "A = [2,1,5,4,3]\n",
    "A = [5,4,3,2,1]\n",
    "A = [1,4,3,2]\n",
    "A = [ 444, 994, 508, 72, 125, 299, 181, 238, 354, 223, 691, 249, 838, 890, 758, 675, 424, 199, 201, 788, 609, 582, 979, 259, 901, 371, 766, 759, 983, 728, 220, 16, 158, 822, 515, 488, 846, 321, 908, 469, 84, 460, 961, 285, 417, 142, 952, 626, 916, 247, 116, 975, 202, 734, 128, 312, 499, 274, 213, 208, 472, 265, 315, 335, 205, 784, 708, 681, 160, 448, 365, 165, 190, 693, 606, 226, 351, 241, 526, 311, 164, 98, 422, 363, 103, 747, 507, 669, 153, 856, 701, 319, 695, 52 ]\n",
    "A = [1,4,3,2]\n",
    "A = [4]\n",
    "A = [198, 2314, 8]\n",
    "A = [5, 4, 3, 2, 1]"
   ]
  }
 ],
 "metadata": {
  "kernelspec": {
   "display_name": "Python 3",
   "language": "python",
   "name": "python3"
  },
  "language_info": {
   "codemirror_mode": {
    "name": "ipython",
    "version": 3
   },
   "file_extension": ".py",
   "mimetype": "text/x-python",
   "name": "python",
   "nbconvert_exporter": "python",
   "pygments_lexer": "ipython3",
   "version": "3.8.1"
  }
 },
 "nbformat": 4,
 "nbformat_minor": 4
}
