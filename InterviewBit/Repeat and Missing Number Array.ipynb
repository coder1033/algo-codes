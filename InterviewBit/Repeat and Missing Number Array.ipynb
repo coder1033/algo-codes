{
 "cells": [
  {
   "cell_type": "code",
   "execution_count": null,
   "metadata": {},
   "outputs": [],
   "source": [
    "# Solution in two ways, both O(n) time and also without using extra space in both"
   ]
  },
  {
   "cell_type": "code",
   "execution_count": 19,
   "metadata": {},
   "outputs": [
    {
     "name": "stdout",
     "output_type": "stream",
     "text": [
      "3 4\n"
     ]
    }
   ],
   "source": [
    "A = [3,1,2,5,3]\n",
    "n = len(A)\n",
    "s = n*(1+n)//2-sum(A)\n",
    "ss = 0                                    #### main ####\n",
    "for i,j in enumerate(A):\n",
    "    ss += (i+1)**2-j**2\n",
    "\n",
    "print((ss//s-s)//2,(ss//s+s)//2)"
   ]
  },
  {
   "cell_type": "code",
   "execution_count": 33,
   "metadata": {},
   "outputs": [
    {
     "name": "stdout",
     "output_type": "stream",
     "text": [
      "5 6\n"
     ]
    },
    {
     "data": {
      "text/plain": [
       "[-5, -2, -5, -3, -4, 7, -1]"
      ]
     },
     "execution_count": 33,
     "metadata": {},
     "output_type": "execute_result"
    }
   ],
   "source": [
    "A = [ 5, 2, 5, 3, 4, 7, 1 ]\n",
    "n = len(A)\n",
    "for i in range(n):\n",
    "    if A[abs(A[i])-1]>0:\n",
    "        A[abs(A[i])-1] *= (-1)                #### main ####\n",
    "    else:\n",
    "        r = abs(A[i])\n",
    "m = [i+1 for i in range(n) if A[i]>0][0]\n",
    "print(r,m)\n",
    "A"
   ]
  }
 ],
 "metadata": {
  "kernelspec": {
   "display_name": "Python 3",
   "language": "python",
   "name": "python3"
  },
  "language_info": {
   "codemirror_mode": {
    "name": "ipython",
    "version": 3
   },
   "file_extension": ".py",
   "mimetype": "text/x-python",
   "name": "python",
   "nbconvert_exporter": "python",
   "pygments_lexer": "ipython3",
   "version": "3.8.1"
  }
 },
 "nbformat": 4,
 "nbformat_minor": 4
}
