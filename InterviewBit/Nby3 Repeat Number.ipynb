{
 "cells": [
  {
   "cell_type": "code",
   "execution_count": 81,
   "metadata": {},
   "outputs": [
    {
     "name": "stdout",
     "output_type": "stream",
     "text": [
      "1000004 1000802\n",
      "1000802\n"
     ]
    }
   ],
   "source": [
    "A = [ 1000441, 1000441, 1000994 ]\n",
    "n = len(A)\n",
    "c1,c2 = 0,0\n",
    "ans = None\n",
    "ans1 = None\n",
    "for i in A:\n",
    "    if ans==i:\n",
    "        c1+=1\n",
    "    elif ans1==i:                        #### main #### N/3 Repeat Number\n",
    "        c2+=1\n",
    "    elif c1==0:\n",
    "        c1+=1\n",
    "        ans=i\n",
    "    elif c2==0:\n",
    "        c2+=1\n",
    "        ans1=i\n",
    "    else:\n",
    "        c1-=1\n",
    "        c2-=1\n",
    "print(ans,ans1)\n",
    "if A.count(ans)>n/3:\n",
    "    print(ans)\n",
    "elif A.count(ans1)>n/3:\n",
    "    print(ans1)\n",
    "else:\n",
    "    print(-1)"
   ]
  },
  {
   "cell_type": "code",
   "execution_count": 127,
   "metadata": {},
   "outputs": [
    {
     "name": "stdout",
     "output_type": "stream",
     "text": [
      "1000802\n"
     ]
    }
   ],
   "source": [
    "from random import randint\n",
    "n = len(A)\n",
    "for i in range(23):\n",
    "    t = randint(0,n-1)\n",
    "    if A.count(A[t])>n/3:    #### main #### Probabilistic approach @credit Vikash Tiwari\n",
    "        print(A[t])\n",
    "        break\n",
    "else:\n",
    "    print(-1)"
   ]
  },
  {
   "cell_type": "raw",
   "metadata": {},
   "source": [
    "Probabilistic approach @credit Vikash Tiwari\n",
    "If there are n elements in the array , and suppose in the worst case only 1 element is repeated n/3 times , then the probability of choosing one number that is not the one which is repeated n/3 times will be (2n/3)/n that is 1/3 , so if we randomly choose N elements from the array of size ‘n’, then the probability that we end up choosing the n/3 times repeated number will be at least 1-(2/3)^N . If we equate this to say 99.99 percent probability of getting success, we will get N=23 for any value of “n”"
   ]
  }
 ],
 "metadata": {
  "kernelspec": {
   "display_name": "Python 3",
   "language": "python",
   "name": "python3"
  },
  "language_info": {
   "codemirror_mode": {
    "name": "ipython",
    "version": 3
   },
   "file_extension": ".py",
   "mimetype": "text/x-python",
   "name": "python",
   "nbconvert_exporter": "python",
   "pygments_lexer": "ipython3",
   "version": "3.8.1"
  }
 },
 "nbformat": 4,
 "nbformat_minor": 4
}
