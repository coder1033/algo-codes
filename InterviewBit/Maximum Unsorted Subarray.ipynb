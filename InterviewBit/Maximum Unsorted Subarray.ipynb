{
 "cells": [
  {
   "cell_type": "code",
   "execution_count": null,
   "metadata": {},
   "outputs": [],
   "source": [
    "class Solution:\n",
    "    # @param A : list of integers\n",
    "    # @return a list of integers\n",
    "    def subUnsort(self, A):\n",
    "        minStack = [(A[0],0)]\n",
    "        mini = len(A)\n",
    "        for i,j in enumerate(A[1:]):                    #### main #### Maximum Unsorted Subarray\n",
    "            while minStack and minStack[-1][0]>j:\n",
    "                mini = min(minStack.pop()[1],mini)\n",
    "            minStack+=[(j,i+1)]\n",
    "        maxStack = [(A[-1],len(A)-1)]\n",
    "        maxi = -1\n",
    "        for i in range(len(A)-2,-1,-1):\n",
    "            while maxStack and maxStack[-1][0]<A[i]:\n",
    "                maxi = max(maxi,maxStack.pop()[1])\n",
    "            maxStack+=[(A[i],i)]\n",
    "        if maxi==-1:\n",
    "            return [-1]\n",
    "        else:\n",
    "            return [mini,maxi]"
   ]
  },
  {
   "cell_type": "code",
   "execution_count": 26,
   "metadata": {},
   "outputs": [
    {
     "name": "stdout",
     "output_type": "stream",
     "text": [
      "9 19\n"
     ]
    }
   ],
   "source": [
    "A = [1, 3, 2, 4, 5]\n",
    "A = [1, 2, 3, 4, 5]\n",
    "A = [3,8,14,12,14,14,15,19,17,19,19]\n",
    "A = [ 1, 2, 3, 5, 6, 13, 15, 16, 17, 13, 13, 15, 17, 17, 17, 17, 17, 19, 19 ]\n",
    "A = [ 1, 1, 10, 10, 15, 10, 15, 10, 10, 15, 10, 15 ]\n",
    "A = [ 1, 1, 4, 6, 8, 8, 13, 13, 13, 14, 17, 18, 14 ]\n",
    "A = [1 ,3 ,2 ,4 ,5]\n",
    "A = [1, 2, 3, 4, 8, 5, 7, 6, 9]\n",
    "A = [1, 2, 3, 5, 6, 4, 7, 8 ]\n",
    "A = [ 1, 2, 2, 3, 3, 5, 6, 6, 14, 17, 18, 17, 18, 15, 15, 17, 19, 14, 19, 18 ]\n",
    "minStack = [(A[0],0)]\n",
    "mini = len(A)\n",
    "for i,j in enumerate(A[1:]):\n",
    "    while minStack and minStack[-1][0]>j:\n",
    "        mini = min(minStack.pop()[1],mini)\n",
    "    minStack+=[(j,i+1)]\n",
    "maxStack = [(A[-1],len(A)-1)]\n",
    "maxi = -1\n",
    "for i in range(len(A)-2,-1,-1):\n",
    "    while maxStack and maxStack[-1][0]<A[i]:\n",
    "        maxi = max(maxi,maxStack.pop()[1])\n",
    "    maxStack+=[(A[i],i)]\n",
    "if maxi==-1:\n",
    "    print(-1)\n",
    "else:\n",
    "    print(mini,maxi)"
   ]
  }
 ],
 "metadata": {
  "kernelspec": {
   "display_name": "Python 3",
   "language": "python",
   "name": "python3"
  },
  "language_info": {
   "codemirror_mode": {
    "name": "ipython",
    "version": 3
   },
   "file_extension": ".py",
   "mimetype": "text/x-python",
   "name": "python",
   "nbconvert_exporter": "python",
   "pygments_lexer": "ipython3",
   "version": "3.8.1"
  }
 },
 "nbformat": 4,
 "nbformat_minor": 4
}
