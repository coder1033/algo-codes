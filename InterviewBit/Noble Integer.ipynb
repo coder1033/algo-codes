{
 "cells": [
  {
   "cell_type": "code",
   "execution_count": 7,
   "metadata": {},
   "outputs": [
    {
     "name": "stdout",
     "output_type": "stream",
     "text": [
      "3\n"
     ]
    }
   ],
   "source": [
    "from collections import deque\n",
    "class Solution:\n",
    "    # @param A : list of integers\n",
    "    # @return an integer\n",
    "    def solve(self, A):\n",
    "        A = deque(sorted(A))\n",
    "        n = len(A)\n",
    "        if A[-1]==0:\n",
    "            return 1                        #### main #### O(nlogn) time O(n) space\n",
    "        curr = None\n",
    "        for i,j in enumerate(A):\n",
    "            if curr==None:\n",
    "                curr=j\n",
    "                continue\n",
    "            if curr==j:\n",
    "                continue\n",
    "            if curr==n-i:\n",
    "                return 1\n",
    "                break\n",
    "            else:\n",
    "                curr=j\n",
    "        else:\n",
    "            return -1"
   ]
  },
  {
   "cell_type": "code",
   "execution_count": 73,
   "metadata": {},
   "outputs": [
    {
     "name": "stdout",
     "output_type": "stream",
     "text": [
      "4 0 None\n",
      "3 1 4\n",
      "3 2 3\n",
      "2 3 3\n",
      "1 4 2\n",
      "-1\n"
     ]
    }
   ],
   "source": [
    "import heapq\n",
    "A = [1,2,3,3,4]\n",
    "A = [-i for i in A]\n",
    "heapq.heapify(A)\n",
    "maxcount = 0\n",
    "maxi = None\n",
    "prev = None                                 #### main #### O(n) time O(1) space\n",
    "while A:\n",
    "    t = -heapq.heappop(A)\n",
    "    #print(t,maxcount,prev)\n",
    "    if t==maxcount and t!=prev:\n",
    "        print(1)\n",
    "        break\n",
    "    prev = t\n",
    "    maxcount+=1\n",
    "else:\n",
    "    print(-1)"
   ]
  },
  {
   "cell_type": "code",
   "execution_count": 35,
   "metadata": {},
   "outputs": [
    {
     "name": "stdout",
     "output_type": "stream",
     "text": [
      "22\n",
      "0\n",
      "0\n",
      "0\n"
     ]
    }
   ],
   "source": [
    "import heapq\n",
    "A = [0,0,0,-22]\n",
    "A = [-i for i in A]\n",
    "heapq.heapify(A)\n",
    "while A:\n",
    "    print(A.pop())"
   ]
  }
 ],
 "metadata": {
  "kernelspec": {
   "display_name": "Python 3",
   "language": "python",
   "name": "python3"
  },
  "language_info": {
   "codemirror_mode": {
    "name": "ipython",
    "version": 3
   },
   "file_extension": ".py",
   "mimetype": "text/x-python",
   "name": "python",
   "nbconvert_exporter": "python",
   "pygments_lexer": "ipython3",
   "version": "3.8.1"
  }
 },
 "nbformat": 4,
 "nbformat_minor": 4
}
