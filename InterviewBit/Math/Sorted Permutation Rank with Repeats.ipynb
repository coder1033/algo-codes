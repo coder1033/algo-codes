{
 "cells": [
  {
   "cell_type": "code",
   "execution_count": 49,
   "metadata": {},
   "outputs": [
    {
     "name": "stdout",
     "output_type": "stream",
     "text": [
      "502900\n"
     ]
    }
   ],
   "source": [
    "from math import factorial\n",
    "from collections import Counter\n",
    "n = len(A)\n",
    "M = 1000003\n",
    "C = Counter(A)\n",
    "ans = 1\n",
    "for i,c in enumerate(A):               #### main #### Sorted Permutation Rank with Repeats\n",
    "    f = factorial(n-1-i)\n",
    "    for j in C:\n",
    "        if j<c and C[j]:\n",
    "            r = f\n",
    "            for k in C:\n",
    "                if k!=j and C[k]:\n",
    "                    r //=factorial(C[k])\n",
    "                elif C[k]>1:\n",
    "                    r //= factorial(C[k]-1)\n",
    "            ans+=r\n",
    "    C[c]-=1\n",
    "    ans%=M\n",
    "print(ans)"
   ]
  },
  {
   "cell_type": "code",
   "execution_count": 41,
   "metadata": {},
   "outputs": [
    {
     "data": {
      "text/plain": [
       "107"
      ]
     },
     "execution_count": 41,
     "metadata": {},
     "output_type": "execute_result"
    }
   ],
   "source": [
    "from itertools import permutations\n",
    "A = 'settLe'\n",
    "s = [''.join(i) for i in sorted(set(permutations(A)))]\n",
    "s.index('settLe')+1\n",
    "#print(s)"
   ]
  },
  {
   "cell_type": "markdown",
   "metadata": {},
   "source": [
    "TestCases\n",
    "\n",
    "A = 'aab'\n",
    "A = 'aabsnnrd'\n",
    "A = 'baba'\n",
    "A = 'bbcac'\n",
    "A = 'IDoAgpWmipGWOUuCIksS'\n",
    "A = 'BaAbAaa'\n",
    "A = 'bcadacc'\n",
    "A = 'BabBAb'\n",
    "A = 'abaBGAADCC'\n",
    "A = 'anhLXekcFPCDaLMPvz'\n",
    "A = 'abab'\n",
    "A = 'settLe'\n",
    "A = 'sadasdsasassasas'\n",
    "A = 'IhSKbdvuqfmGHh'\n",
    "A = 'asasdsdsadasdadsadasdsa'\n"
   ]
  },
  {
   "cell_type": "code",
   "execution_count": 8,
   "metadata": {},
   "outputs": [
    {
     "data": {
      "text/plain": [
       "97"
      ]
     },
     "execution_count": 8,
     "metadata": {},
     "output_type": "execute_result"
    }
   ],
   "source": [
    "ord('a')"
   ]
  },
  {
   "cell_type": "code",
   "execution_count": 9,
   "metadata": {},
   "outputs": [
    {
     "data": {
      "text/plain": [
       "65"
      ]
     },
     "execution_count": 9,
     "metadata": {},
     "output_type": "execute_result"
    }
   ],
   "source": [
    "ord('A')"
   ]
  }
 ],
 "metadata": {
  "kernelspec": {
   "display_name": "Python 3",
   "language": "python",
   "name": "python3"
  },
  "language_info": {
   "codemirror_mode": {
    "name": "ipython",
    "version": 3
   },
   "file_extension": ".py",
   "mimetype": "text/x-python",
   "name": "python",
   "nbconvert_exporter": "python",
   "pygments_lexer": "ipython3",
   "version": "3.8.1"
  }
 },
 "nbformat": 4,
 "nbformat_minor": 4
}
