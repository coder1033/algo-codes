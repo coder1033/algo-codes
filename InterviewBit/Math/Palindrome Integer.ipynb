{
 "cells": [
  {
   "cell_type": "code",
   "execution_count": 10,
   "metadata": {},
   "outputs": [
    {
     "name": "stdout",
     "output_type": "stream",
     "text": [
      "True\n"
     ]
    }
   ],
   "source": [
    "class Solution:\n",
    "    # @param A : integer\n",
    "    # @return an integer\n",
    "    def isPalindrome(self, A):\n",
    "        t = A\n",
    "        l = 0\n",
    "        if A<0:\n",
    "            return 0\n",
    "        while t:                         #### MAIN #### Palindrome Integer\n",
    "            l+=1\n",
    "            t//=10\n",
    "        s,e=0,l-1\n",
    "        ans = True\n",
    "        while s<e:\n",
    "            if (A//10**s)%10!=(A//10**e)%10:\n",
    "                return(0)\n",
    "            s+=1\n",
    "            e-=1\n",
    "        return(1)"
   ]
  }
 ],
 "metadata": {
  "kernelspec": {
   "display_name": "Python 3",
   "language": "python",
   "name": "python3"
  },
  "language_info": {
   "codemirror_mode": {
    "name": "ipython",
    "version": 3
   },
   "file_extension": ".py",
   "mimetype": "text/x-python",
   "name": "python",
   "nbconvert_exporter": "python",
   "pygments_lexer": "ipython3",
   "version": "3.8.1"
  }
 },
 "nbformat": 4,
 "nbformat_minor": 4
}
