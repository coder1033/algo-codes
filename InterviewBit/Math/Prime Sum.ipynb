{
 "cells": [
  {
   "cell_type": "code",
   "execution_count": 1,
   "metadata": {},
   "outputs": [
    {
     "name": "stdout",
     "output_type": "stream",
     "text": [
      "16777214\n",
      "3 16777211\n"
     ]
    }
   ],
   "source": [
    "from math import sqrt\n",
    "class Solution:\n",
    "    # @param A : integer\n",
    "    # @return a list of integers\n",
    "    global prime\n",
    "    prime = dict()\n",
    "    def primesum(self, n):\n",
    "        def isPrime(n):\n",
    "            if n<=1:\n",
    "                return False                       #### main #### Prime Sum\n",
    "            for i in range(2,int(sqrt(n)+1)):\n",
    "                if n%i==0:\n",
    "                    return False\n",
    "            return True\n",
    "        for i in range(2,n//2+1):\n",
    "            if i in prime:\n",
    "                if n-i in prime:\n",
    "                    if prime[i] and prime[n-i]:\n",
    "                        return [i,n-i]\n",
    "                else:\n",
    "                    prime[n-i] = isPrime(n-i)\n",
    "                    if prime[i] and prime[n-i]:\n",
    "                        return [i,n-i]\n",
    "            else:\n",
    "                prime[i]=isPrime(i)\n",
    "                if n-i in prime:\n",
    "                    if prime[i] and prime[n-i]:\n",
    "                        return [i,n-i]\n",
    "                else:\n",
    "                    prime[n-i] = isPrime(n-i)\n",
    "                    if prime[i] and prime[n-i]:\n",
    "                        return [i,n-i]\n",
    "        "
   ]
  },
  {
   "cell_type": "code",
   "execution_count": null,
   "metadata": {},
   "outputs": [],
   "source": []
  }
 ],
 "metadata": {
  "kernelspec": {
   "display_name": "Python 3",
   "language": "python",
   "name": "python3"
  },
  "language_info": {
   "codemirror_mode": {
    "name": "ipython",
    "version": 3
   },
   "file_extension": ".py",
   "mimetype": "text/x-python",
   "name": "python",
   "nbconvert_exporter": "python",
   "pygments_lexer": "ipython3",
   "version": "3.8.1"
  }
 },
 "nbformat": 4,
 "nbformat_minor": 4
}
