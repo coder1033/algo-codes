{
 "cells": [
  {
   "cell_type": "code",
   "execution_count": null,
   "metadata": {},
   "outputs": [],
   "source": [
    "A = 536870912\n",
    "for i in range(2,33):\n",
    "    a = round(pow(A,1/i))             #### fastest #### Power Of Two Integers\n",
    "    if a**i==A:\n",
    "        print(1)\n",
    "        break\n",
    "else:\n",
    "    print(0)"
   ]
  },
  {
   "cell_type": "code",
   "execution_count": 17,
   "metadata": {},
   "outputs": [
    {
     "name": "stdout",
     "output_type": "stream",
     "text": [
      "False\n"
     ]
    }
   ],
   "source": [
    "from math import log\n",
    "if A==0:\n",
    "    print(True)\n",
    "else:                                         #### main #### Power Of Two Integers\n",
    "    for i in range(2,int(sqrt(A)+1)):\n",
    "        if round(log(A,i),5)%1==0:\n",
    "            print(True)\n",
    "            break\n",
    "    else:\n",
    "        print(False)\n",
    "        "
   ]
  }
 ],
 "metadata": {
  "kernelspec": {
   "display_name": "Python 3",
   "language": "python",
   "name": "python3"
  },
  "language_info": {
   "codemirror_mode": {
    "name": "ipython",
    "version": 3
   },
   "file_extension": ".py",
   "mimetype": "text/x-python",
   "name": "python",
   "nbconvert_exporter": "python",
   "pygments_lexer": "ipython3",
   "version": "3.8.1"
  }
 },
 "nbformat": 4,
 "nbformat_minor": 4
}
