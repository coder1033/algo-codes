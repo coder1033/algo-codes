{
 "cells": [
  {
   "cell_type": "code",
   "execution_count": 12,
   "metadata": {},
   "outputs": [
    {
     "data": {
      "text/plain": [
       "2"
      ]
     },
     "execution_count": 12,
     "metadata": {},
     "output_type": "execute_result"
    }
   ],
   "source": [
    "import sys\n",
    "sys.setrecursionlimit(1000000)\n",
    "class Solution:\n",
    "    # @param A : integer\n",
    "    # @param B : integer                  #### using recusrion\n",
    "    # @return an integer\n",
    "    def uniquePaths(self, A, B):          #### main #### Grid Unique Paths\n",
    "        def unique(i,j):\n",
    "            if i==A and j==B:\n",
    "                return 1\n",
    "            if i>A or j>B:\n",
    "                return 0\n",
    "            if dp[i][j]!=0:\n",
    "                return dp[i][j]\n",
    "            dp[i][j]=unique(i,j+1)+unique(i+1,j)\n",
    "            return dp[i][j]\n",
    "        dp = [[0]*(B+1) for i in range(A+1)]\n",
    "        return unique(1,1)"
   ]
  },
  {
   "cell_type": "code",
   "execution_count": 25,
   "metadata": {},
   "outputs": [
    {
     "name": "stdout",
     "output_type": "stream",
     "text": [
      "[0, 0, 0, 0, 0, 0, 0]\n",
      "[0, 1, 1, 1, 1, 1, 1]\n",
      "[0, 1, 2, 3, 4, 5, 6]\n",
      "[0, 1, 3, 6, 10, 15, 21]\n",
      "[0, 1, 4, 10, 20, 35, 56]\n",
      "[0, 1, 5, 15, 35, 70, 126]\n",
      "126\n"
     ]
    }
   ],
   "source": [
    "A,B = 5,6\n",
    "dp = [[0]*(B+1) for i in range(A+1)]\n",
    "for j in range(1,B+1):                       #### using iterative method\n",
    "    dp[1][j]=1\n",
    "for i in range(1,A+1):                       #### main #### Grid Unique Paths\n",
    "    dp[i][1]=1\n",
    "for i in range(2,A+1):\n",
    "    for j in range(2,B+1):\n",
    "        dp[i][j] = dp[i-1][j]+dp[i][j-1]\n",
    "#print(*dp,sep='\\n')\n",
    "print(dp[-1][-1])"
   ]
  },
  {
   "cell_type": "code",
   "execution_count": 31,
   "metadata": {},
   "outputs": [
    {
     "name": "stdout",
     "output_type": "stream",
     "text": [
      "126\n"
     ]
    }
   ],
   "source": [
    "from math import factorial as f          #### Combinatorics\n",
    "A,B=3,2\n",
    "print(f(A+B-2)//f(A-1)//f(B-1))          #### main #### Grid Unique Paths"
   ]
  }
 ],
 "metadata": {
  "kernelspec": {
   "display_name": "Python 3",
   "language": "python",
   "name": "python3"
  },
  "language_info": {
   "codemirror_mode": {
    "name": "ipython",
    "version": 3
   },
   "file_extension": ".py",
   "mimetype": "text/x-python",
   "name": "python",
   "nbconvert_exporter": "python",
   "pygments_lexer": "ipython3",
   "version": "3.8.1"
  }
 },
 "nbformat": 4,
 "nbformat_minor": 4
}
