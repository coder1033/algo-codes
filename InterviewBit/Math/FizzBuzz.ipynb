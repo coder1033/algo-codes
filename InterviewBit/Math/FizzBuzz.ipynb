{
 "cells": [
  {
   "cell_type": "code",
   "execution_count": 3,
   "metadata": {},
   "outputs": [
    {
     "name": "stdout",
     "output_type": "stream",
     "text": [
      "['1', '2', 'Fizz', '4', 'Buzz']\n"
     ]
    }
   ],
   "source": [
    "A = 5\n",
    "ans = []\n",
    "for i in range(1,A+1):\n",
    "    if i%15==0:ans+=['FizzBuzz']\n",
    "    elif i%3==0:ans+=['Fizz']             #### main #### FizzBuzz\n",
    "    elif i%5==0:ans+=['Buzz']\n",
    "    else:ans+=[str(i)]\n",
    "print(ans)"
   ]
  }
 ],
 "metadata": {
  "kernelspec": {
   "display_name": "Python 3",
   "language": "python",
   "name": "python3"
  },
  "language_info": {
   "codemirror_mode": {
    "name": "ipython",
    "version": 3
   },
   "file_extension": ".py",
   "mimetype": "text/x-python",
   "name": "python",
   "nbconvert_exporter": "python",
   "pygments_lexer": "ipython3",
   "version": "3.8.1"
  }
 },
 "nbformat": 4,
 "nbformat_minor": 4
}
