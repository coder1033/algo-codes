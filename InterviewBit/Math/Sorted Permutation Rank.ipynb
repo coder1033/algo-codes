{
 "cells": [
  {
   "cell_type": "code",
   "execution_count": 24,
   "metadata": {},
   "outputs": [
    {
     "name": "stdout",
     "output_type": "stream",
     "text": [
      "3\n"
     ]
    }
   ],
   "source": [
    "from math import factorial\n",
    "A = 'bac'\n",
    "n = len(A)\n",
    "B = sorted(A)\n",
    "ans = 1\n",
    "M = 1000003                          #### main #### Sorted Permutation Rank\n",
    "for i,c in enumerate(A):\n",
    "    ans+=B.index(c)*factorial(n-1-i)\n",
    "    ans%=M\n",
    "    B.remove(c)\n",
    "print(ans)"
   ]
  }
 ],
 "metadata": {
  "kernelspec": {
   "display_name": "Python 3",
   "language": "python",
   "name": "python3"
  },
  "language_info": {
   "codemirror_mode": {
    "name": "ipython",
    "version": 3
   },
   "file_extension": ".py",
   "mimetype": "text/x-python",
   "name": "python",
   "nbconvert_exporter": "python",
   "pygments_lexer": "ipython3",
   "version": "3.8.1"
  }
 },
 "nbformat": 4,
 "nbformat_minor": 4
}
