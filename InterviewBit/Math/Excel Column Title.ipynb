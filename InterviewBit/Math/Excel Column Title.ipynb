{
 "cells": [
  {
   "cell_type": "code",
   "execution_count": 43,
   "metadata": {},
   "outputs": [
    {
     "name": "stdout",
     "output_type": "stream",
     "text": [
      "AZA\n"
     ]
    }
   ],
   "source": [
    "A = 1353\n",
    "ans = ''\n",
    "while A!=0:\n",
    "    if A%26:                            #### main #### Excel Column Title\n",
    "        ans+=chr(64+A%26)\n",
    "    else:\n",
    "        ans+='Z'\n",
    "        A-=1\n",
    "    A//=26\n",
    "print(ans[::-1])"
   ]
  }
 ],
 "metadata": {
  "kernelspec": {
   "display_name": "Python 3",
   "language": "python",
   "name": "python3"
  },
  "language_info": {
   "codemirror_mode": {
    "name": "ipython",
    "version": 3
   },
   "file_extension": ".py",
   "mimetype": "text/x-python",
   "name": "python",
   "nbconvert_exporter": "python",
   "pygments_lexer": "ipython3",
   "version": "3.8.1"
  }
 },
 "nbformat": 4,
 "nbformat_minor": 4
}
